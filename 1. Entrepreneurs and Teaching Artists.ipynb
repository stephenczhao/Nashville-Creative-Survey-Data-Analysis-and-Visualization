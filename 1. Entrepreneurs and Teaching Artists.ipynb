{
  "cells": [
    {
      "cell_type": "code",
      "execution_count": 1,
      "metadata": {
        "id": "6FuTsXOVlHvI"
      },
      "outputs": [],
      "source": [
        "import pandas as pd\n",
        "import numpy as np\n",
        "import matplotlib.pyplot as plt\n",
        "import seaborn as sns"
      ]
    },
    {
      "cell_type": "code",
      "execution_count": 2,
      "metadata": {
        "id": "a1AVqFDElJe0"
      },
      "outputs": [],
      "source": [
        "data = pd.read_excel('./2023-cleaned-survey.xlsx')\n"
      ]
    },
    {
      "cell_type": "markdown",
      "metadata": {},
      "source": [
        "In the following cells, I using the .unique() function to find the unique answers provided by the participants to that I could plot the Distribution of Years in Creative Practice vs Age of the Demographic."
      ]
    },
    {
      "cell_type": "code",
      "execution_count": 3,
      "metadata": {
        "colab": {
          "base_uri": "https://localhost:8080/"
        },
        "id": "4b8hirA6rNcg",
        "outputId": "4b40c32c-a85f-471b-948a-ad4731eca637"
      },
      "outputs": [
        {
          "data": {
            "text/plain": [
              "array([nan, '6-10 years', '11-20 years', '0-5 years', '20+ years'],\n",
              "      dtype=object)"
            ]
          },
          "execution_count": 3,
          "metadata": {},
          "output_type": "execute_result"
        }
      ],
      "source": [
        "data['Years of Professional Creative Practice'].unique()"
      ]
    },
    {
      "cell_type": "code",
      "execution_count": 4,
      "metadata": {
        "colab": {
          "base_uri": "https://localhost:8080/"
        },
        "id": "UEmRhVdklz6n",
        "outputId": "a68be2c3-84cb-4e54-effe-e644e21a951a"
      },
      "outputs": [
        {
          "data": {
            "text/plain": [
              "array(['Older Adults (Age 65+)', 'Children/Youth (Age 0-18)',\n",
              "       'Adults (Age 25-64)', 'Prefer not to say',\n",
              "       'Young Adults (Age 19-24)'], dtype=object)"
            ]
          },
          "execution_count": 4,
          "metadata": {},
          "output_type": "execute_result"
        }
      ],
      "source": [
        "data['Age'].unique()"
      ]
    },
    {
      "cell_type": "markdown",
      "metadata": {},
      "source": [
        "Then, I check the tatal amount of valid answer of years of professional creative practice for different age group in the column 'Age'."
      ]
    },
    {
      "cell_type": "code",
      "execution_count": 5,
      "metadata": {
        "colab": {
          "base_uri": "https://localhost:8080/"
        },
        "id": "JBcZTotNqZRb",
        "outputId": "19cdacd4-66d1-46d7-e2bb-acda2f1d6787"
      },
      "outputs": [
        {
          "data": {
            "text/plain": [
              "6"
            ]
          },
          "execution_count": 5,
          "metadata": {},
          "output_type": "execute_result"
        }
      ],
      "source": [
        "(data[data['Age'] == 'Children/Youth (Age 0-18)']['Years of Professional Creative Practice'].notna()).sum()"
      ]
    },
    {
      "cell_type": "code",
      "execution_count": 6,
      "metadata": {
        "colab": {
          "base_uri": "https://localhost:8080/"
        },
        "id": "TZ2rsxyDq0q7",
        "outputId": "08f061aa-dd4d-4137-847d-ffbb4d65a72f"
      },
      "outputs": [
        {
          "data": {
            "text/plain": [
              "12"
            ]
          },
          "execution_count": 6,
          "metadata": {},
          "output_type": "execute_result"
        }
      ],
      "source": [
        "(data[data['Age'] == 'Young Adults (Age 19-24)']['Years of Professional Creative Practice'].notna()).sum()"
      ]
    },
    {
      "cell_type": "code",
      "execution_count": 7,
      "metadata": {
        "colab": {
          "base_uri": "https://localhost:8080/"
        },
        "id": "vmqCo0g-q8tr",
        "outputId": "741c96f6-a6b7-451f-eafd-6f1bca3ce694"
      },
      "outputs": [
        {
          "data": {
            "text/plain": [
              "6"
            ]
          },
          "execution_count": 7,
          "metadata": {},
          "output_type": "execute_result"
        }
      ],
      "source": [
        "(data[data['Age'] == 'Adults (Age 25-64)']['Years of Professional Creative Practice'].notna()).sum()"
      ]
    },
    {
      "cell_type": "code",
      "execution_count": 8,
      "metadata": {
        "colab": {
          "base_uri": "https://localhost:8080/"
        },
        "id": "qf8ihQQYq-jS",
        "outputId": "471e43c8-25db-4b65-84c9-aa9574094f55"
      },
      "outputs": [
        {
          "data": {
            "text/plain": [
              "14"
            ]
          },
          "execution_count": 8,
          "metadata": {},
          "output_type": "execute_result"
        }
      ],
      "source": [
        "(data[data['Age'] == 'Older Adults (Age 65+)']['Years of Professional Creative Practice'].notna()).sum()"
      ]
    },
    {
      "cell_type": "markdown",
      "metadata": {},
      "source": [
        "The following cell is cleaning the data by excluding the answer which is meaningless, such as 'Prefer not to say'."
      ]
    },
    {
      "cell_type": "code",
      "execution_count": 9,
      "metadata": {
        "id": "9szv5SFOnGtI"
      },
      "outputs": [],
      "source": [
        "filtered_data = data[(data['Age'] != 'Prefer not to say') & (data['Years of Professional Creative Practice'].notna())]"
      ]
    },
    {
      "cell_type": "markdown",
      "metadata": {
        "id": "30j7UTp0j1FY"
      },
      "source": [
        "# Q1 Distribution of Years in Creative Practice vs. Age of the Demographic"
      ]
    },
    {
      "cell_type": "markdown",
      "metadata": {},
      "source": [
        "After getting the filtered data about the years in creative practice of different age group, I plot the distribution."
      ]
    },
    {
      "cell_type": "code",
      "execution_count": 10,
      "metadata": {
        "colab": {
          "base_uri": "https://localhost:8080/",
          "height": 707
        },
        "id": "n9UYCCcIno3C",
        "outputId": "e517bde4-4832-4ada-e881-fffd6e68ce28"
      },
      "outputs": [
        {
          "data": {
            "image/png": "[encoded data removed]",
            "text/plain": [
              "<Figure size 1200x700 with 1 Axes>"
            ]
          },
          "metadata": {},
          "output_type": "display_data"
        }
      ],
      "source": [
        "plt.figure(figsize=(12, 7))\n",
        "sns.countplot(data=filtered_data, x=\"Age\", hue=\"Years of Professional Creative Practice\", order=[\n",
        "    'Children/Youth (Age 0-18)', 'Young Adults (Age 19-24)', 'Adults (Age 25-64)', 'Older Adults (Age 65+)'\n",
        "], hue_order=['0-5 years', '6-10 years', '11-20 years', '20+ years'])\n",
        "\n",
        "# Adding title and labels\n",
        "plt.title(\"Distribution of Years in Creative Practice vs. Age of the Demographic\", fontweight='bold', fontsize=16)\n",
        "plt.xlabel(\"Age Groups\", fontweight='bold', fontsize=14)\n",
        "plt.ylabel(\"Number of Respondents\", fontweight='bold', fontsize=14)\n",
        "plt.xticks(rotation=0)\n",
        "plt.legend(title=\"Years of Professional Creative Practice\")\n",
        "\n",
        "# Display the plot\n",
        "plt.tight_layout()\n",
        "plt.show()"
      ]
    },
    {
      "cell_type": "markdown",
      "metadata": {
        "id": "PKqN3-S7jw6e"
      },
      "source": [
        "# Q2 Rate of Closing"
      ]
    },
    {
      "cell_type": "markdown",
      "metadata": {},
      "source": [
        "In this part, I try to find any questions in the survey that relates to the closing business. Then, ther are two columns that have the relavent information. The question 'Did You Close Your Arts Business Recently' is the most direct question related to the question of rate of closing."
      ]
    },
    {
      "cell_type": "code",
      "execution_count": 11,
      "metadata": {
        "colab": {
          "base_uri": "https://localhost:8080/"
        },
        "id": "ilr9Bg0goA1A",
        "outputId": "5e5a7c48-a775-4e1a-c6f6-304c68215760"
      },
      "outputs": [
        {
          "data": {
            "text/plain": [
              "['Did You Close Your Arts Business Recently',\n",
              " 'Reasons for Closing Arts Business']"
            ]
          },
          "execution_count": 11,
          "metadata": {},
          "output_type": "execute_result"
        }
      ],
      "source": [
        "column_names = data.columns\n",
        "potential_columns = [col for col in column_names if any(keyword in col.lower() for keyword in [\"clos\", \"status\", \"shut\", \"down\"])]\n",
        "potential_columns"
      ]
    },
    {
      "cell_type": "markdown",
      "metadata": {},
      "source": [
        "Then, I check all the answers under this question."
      ]
    },
    {
      "cell_type": "code",
      "execution_count": 12,
      "metadata": {
        "colab": {
          "base_uri": "https://localhost:8080/"
        },
        "id": "ENMDD4QtsFYd",
        "outputId": "7df744ea-fc93-4ca2-c942-8c76354a341f"
      },
      "outputs": [
        {
          "name": "stdout",
          "output_type": "stream",
          "text": [
            "50\n",
            "[nan 'No' 'Yes']\n"
          ]
        }
      ],
      "source": [
        "print(data['Did You Close Your Arts Business Recently'].notna().sum())\n",
        "print(data['Did You Close Your Arts Business Recently'].unique())"
      ]
    },
    {
      "cell_type": "markdown",
      "metadata": {},
      "source": [
        "By filtering the by =='Yes', I get the total number of participants who close their business."
      ]
    },
    {
      "cell_type": "code",
      "execution_count": 13,
      "metadata": {
        "colab": {
          "base_uri": "https://localhost:8080/"
        },
        "id": "Smjc0XX6soFV",
        "outputId": "d3e8e91a-90a7-47fe-a198-b36d6455048b"
      },
      "outputs": [
        {
          "data": {
            "text/plain": [
              "23"
            ]
          },
          "execution_count": 13,
          "metadata": {},
          "output_type": "execute_result"
        }
      ],
      "source": [
        "Closing_amount = (data['Did You Close Your Arts Business Recently']=='Yes').sum()\n",
        "Closing_amount"
      ]
    },
    {
      "cell_type": "markdown",
      "metadata": {},
      "source": [
        "Then, divied the amount of the closing by the total amount of participants, I get the rate of closing, which is **6.57%**."
      ]
    },
    {
      "cell_type": "code",
      "execution_count": 14,
      "metadata": {
        "colab": {
          "base_uri": "https://localhost:8080/"
        },
        "id": "UmucB-05sh5o",
        "outputId": "3758984c-968d-4b72-fb85-219c6b9cf853"
      },
      "outputs": [
        {
          "data": {
            "text/plain": [
              "6.57"
            ]
          },
          "execution_count": 14,
          "metadata": {},
          "output_type": "execute_result"
        }
      ],
      "source": [
        "Rate_of_closing = round((Closing_amount / data['Did You Close Your Arts Business Recently'].shape[0])*100, 2)\n",
        "Rate_of_closing"
      ]
    },
    {
      "cell_type": "markdown",
      "metadata": {},
      "source": [
        "# Q3 Years distribution vs Age"
      ]
    },
    {
      "cell_type": "markdown",
      "metadata": {},
      "source": [
        "To get the answer about the years as an arts educator relative to age, I look up all the questions which contain the key words like 'arts educator', 'arts', and 'years'. Then there is a question, 'Years of Experience as Arts Educator' which contain the answers I want."
      ]
    },
    {
      "cell_type": "code",
      "execution_count": 15,
      "metadata": {
        "colab": {
          "base_uri": "https://localhost:8080/"
        },
        "id": "ydlPWUuFTpx-",
        "outputId": "a334cdfe-f90a-4d92-cbec-24100053bfa3"
      },
      "outputs": [
        {
          "data": {
            "text/plain": [
              "['Years of Professional Creative Practice',\n",
              " 'Did You Close Your Arts Business Recently',\n",
              " 'Reasons for Closing Arts Business',\n",
              " 'Role Description as an Arts Educator',\n",
              " 'Years of Experience as Arts Educator',\n",
              " 'Years of Organization/Business Existence',\n",
              " 'Does Your Organization Fund Arts Programming?',\n",
              " 'Prior to 2020, how many arts events would you attend, and/or arts venues would you visit, in an average month?',\n",
              " 'Online Arts Events Attendance in 2020',\n",
              " 'Post pandemic restrictions (2022), how many arts events do you attend, and/or arts venues do you visit, in an average month?',\n",
              " 'Arts Disciplines Experienced in Last Year',\n",
              " 'Barriers to Arts Participation',\n",
              " 'Relationships with Individuals in Arts',\n",
              " 'Work/Volunteer in Arts Organization',\n",
              " 'Yearly Contributions to Arts Organizations',\n",
              " 'Change in Arts Contributions in Last Year',\n",
              " 'Perceived Value of Arts to Communities',\n",
              " 'Post pandemic restrictions, how many arts events do you attend, and/or arts venues do you visit, in an average month?',\n",
              " 'What barriers do you face in participating in the arts?.1',\n",
              " 'Do you have relatives or friends working in the arts?.1',\n",
              " 'Are you aware that The Non-Profit trains professionals for nonprofit arts boards through a matching program?',\n",
              " 'Regardless of your involvement in the arts, do you think they add value to our communities?.1',\n",
              " 'Have your rent or space costs increased in the past 2 years?',\n",
              " 'Would you be interested in having creative development/presentation space within a larger arts hub or campus in Greater Nashville?',\n",
              " 'What additional features are important to you for an arts-business campus?',\n",
              " 'Have your rent or space costs increased in the past 2 years?.1',\n",
              " 'How important are the following space types/amenities to your creative practice or business? Industrial arts workshops (wood, metal)',\n",
              " 'Do you plan to explore other accommodations or relocate your organization/business in the next 2-5 years?',\n",
              " \"If you're planning a move, would you be interested in joining a larger arts innovation hub in The Area?\",\n",
              " \"What's the ideal location for an arts-business campus in The Area?\",\n",
              " 'What additional features are important to you for an arts-business co-working space?',\n",
              " 'Are you, or your organization, currently a member of the Arts & Business Council?',\n",
              " 'Were you aware The Non-Profit offers educational events on arts-related legal and business subjects?',\n",
              " 'Did you know The Non-Profit offers free legal and professional services to eligible artists and arts organizations in The Area through our VLPA program?',\n",
              " 'Do you plan to remain in The Area for more than the next 2-3 years?',\n",
              " 'What three words come to mind when you think of the Arts & Business Council of Greater Nashville?']"
            ]
          },
          "execution_count": 15,
          "metadata": {},
          "output_type": "execute_result"
        }
      ],
      "source": [
        "column_names = data.columns\n",
        "potential_columns_1 = [col for col in column_names if any(keyword in col.lower() for keyword in [\"arts educator\", \"arts\", \"years\"])]\n",
        "potential_columns_1\n"
      ]
    },
    {
      "cell_type": "markdown",
      "metadata": {},
      "source": [
        "However, after applying .isna() on this column, all of the entry under this column is Nan because the result is 350 when I sum the boolean result up. Hence, **the data is missing and the analysis cannot be done**. I think the reason behind this should be that the participants answered the survey question with various ways whihc cannot be conducted as the scalable result to be analyzed."
      ]
    },
    {
      "cell_type": "code",
      "execution_count": 16,
      "metadata": {
        "colab": {
          "base_uri": "https://localhost:8080/"
        },
        "id": "zdpxPzp2U898",
        "outputId": "2d292b05-e7e9-4726-f3cc-a33cc2293e82"
      },
      "outputs": [
        {
          "data": {
            "text/plain": [
              "0"
            ]
          },
          "execution_count": 16,
          "metadata": {},
          "output_type": "execute_result"
        }
      ],
      "source": [
        "data['Years of Experience as Arts Educator'].notna().sum()"
      ]
    },
    {
      "cell_type": "markdown",
      "metadata": {},
      "source": [
        "## Q4 Distribution of types of creative disciplines are taught "
      ]
    },
    {
      "cell_type": "markdown",
      "metadata": {},
      "source": [
        "I do the same process as before to find the question related to the analysis."
      ]
    },
    {
      "cell_type": "code",
      "execution_count": 17,
      "metadata": {
        "colab": {
          "base_uri": "https://localhost:8080/"
        },
        "id": "_HXN6KHiVFXa",
        "outputId": "b4e22545-fe9b-4cb9-9d67-93ce6438b980"
      },
      "outputs": [
        {
          "data": {
            "text/plain": [
              "['Describe Your Primary Role in Creative Sector',\n",
              " 'Primary Creative Activity',\n",
              " 'Years of Professional Creative Practice',\n",
              " 'Income Details BEFORE COVID-19 Typical annual income from artistic/creative practice',\n",
              " 'Income Details POST COVID-19 RESTRICTIONS (2022) Annual income from artistic/creative practice',\n",
              " 'Is Your Creative Practice Full-time',\n",
              " 'Rate Barriers to Success in Creative Practice Lack of the necessary equipment and/or technology',\n",
              " 'Rate Barriers to Success in Creative Practice Access to affordable creative practice/development space',\n",
              " 'Rate Barriers to Success in Creative Practice Access to affordable performance/presentation space',\n",
              " 'Rate Barriers to Success in Creative Practice Access to funding',\n",
              " 'Rate Barriers to Success in Creative Practice Lack of business management knowledge',\n",
              " 'Rate Barriers to Success in Creative Practice No formal undergraduate, graduate, or informal technical skills training in your field',\n",
              " 'Rate Barriers to Success in Creative Practice Not enough of an audience for your work',\n",
              " 'Rate Barriers to Success in Creative Practice Perceived lack of support from the government (municipal, state)',\n",
              " 'Rate Barriers to Success in Creative Practice Perceived lack of support from the private sector/business community',\n",
              " 'Rate Barriers to Success in Creative Practice Too many competing priorities, not enough time',\n",
              " 'Rate Barriers to Success in Creative Practice Transportation',\n",
              " 'Rate Barriers to Success in Creative Practice Inability to host in-person events',\n",
              " 'Rate Barriers to Success in Creative Practice Ongoing restrictions due to the COVID-19 pandemic',\n",
              " 'Most Impactful Skill/Resource for Your Creative Practice',\n",
              " 'Creative Disciplines You Teach',\n",
              " 'Rate Barriers to Success for Artists/Educators Access to affordable creative practice/development space',\n",
              " 'Most Impactful Skill/Resource for Your Teaching Practice',\n",
              " 'Primary Creative Focus of Your Organization',\n",
              " 'Rate Barriers to Success in Your Organization Access to affordable creative practice/development space',\n",
              " 'Top Challenges for the Creative Community',\n",
              " 'Arts Disciplines Experienced in Last Year',\n",
              " 'Which art disciplines have you experienced in the past year?.1',\n",
              " 'Are you satisfied with your current creative practice development options?',\n",
              " 'Did the events of 2020 affect your need for a creative space?',\n",
              " 'How often do you find your current space options inadequate for the development or presentation of your creative practice?',\n",
              " 'What type of space do you mainly use for your creative work?',\n",
              " 'Would you be interested in having creative development/presentation space within a larger arts hub or campus in Greater Nashville?',\n",
              " \"If looking for a new creative workspace, what's your affordability range (monthly costs including rent/mortgage, insurance, utilities)?\",\n",
              " 'Rate the importance of each aspect when considering a move to a new creative space Dedicated workspaces/workstations',\n",
              " 'Rate the importance of each aspect when considering a move to a new creative space Parking and accessibility',\n",
              " 'Rate the importance of each aspect when considering a move to a new creative space Smaller conference rooms/ meeting',\n",
              " 'Rate the importance of each aspect when considering a move to a new creative space Storage',\n",
              " 'Rate the importance of each aspect when considering a move to a new creative space Green space',\n",
              " 'Rate the importance of each aspect when considering a move to a new creative space Large event space',\n",
              " 'Rate the importance of each aspect when considering a move to a new creative space Retail space',\n",
              " 'Rate the importance of each aspect when considering a move to a new creative space Shared workspaces/workstations',\n",
              " 'Rate the importance of each aspect when considering a move to a new creative space Restaurant',\n",
              " 'Rate the importance of each aspect when considering a move to a new creative space Shared back office services',\n",
              " 'Rate the importance of each amenity when considering a move to a new space Individual artist studio (any discipline)',\n",
              " 'Rate the importance of each amenity when considering a move to a new space Shared artist studio (any discipline)',\n",
              " 'What additional resources would be helpful to the development of your creative practice? (Check all that apply)',\n",
              " 'If you have a physical space, please rate its features: Classrooms/teaching space',\n",
              " 'If you have a physical space, please rate its features: Kitchen/Teaching Kitchen',\n",
              " \"Did the events of 2020 alter your organization's need for creative space?\",\n",
              " 'Considering your current options for creative development and presentation in The Area, are your needs being met? Administrative space (Open/flex offices)',\n",
              " 'Considering your current options for creative development and presentation in The Area, are your needs being met? Administrative space (Private offices)',\n",
              " 'Considering your current options for creative development and presentation in The Area, are your needs being met? Meeting space',\n",
              " 'Considering your current options for creative development and presentation in The Area, are your needs being met? Classrooms/teaching space',\n",
              " 'Considering your current options for creative development and presentation in The Area, are your needs being met? Lobby/reception area',\n",
              " 'Considering your current options for creative development and presentation in The Area, are your needs being met? Studio space for artists (Individual or shared)',\n",
              " 'Considering your current options for creative development and presentation in The Area, are your needs being met? Specialized work spaces (recording studio, dark room)',\n",
              " 'Considering your current options for creative development and presentation in The Area, are your needs being met? Gallery/display space',\n",
              " 'Considering your current options for creative development and presentation in The Area, are your needs being met? Retail space',\n",
              " 'Considering your current options for creative development and presentation in The Area, are your needs being met? Storage for productions/equipment',\n",
              " 'Considering your current options for creative development and presentation in The Area, are your needs being met? Large public event/performance space (+100 people)',\n",
              " 'Considering your current options for creative development and presentation in The Area, are your needs being met? Small public event/performance space (>100 people)',\n",
              " 'Considering your current options for creative development and presentation in The Area, are your needs being met? Rehearsal space',\n",
              " 'Considering your current options for creative development and presentation in The Area, are your needs being met? Kitchen/Teaching kitchen',\n",
              " 'Considering your current options for creative development and presentation in The Area, are your needs being met? Outdoor/Green space for events/artwork',\n",
              " 'Considering your current options for creative development and presentation in The Area, are your needs being met? Parking',\n",
              " 'Considering your current options for creative development and presentation in The Area, are your needs being met? Accessibility/location',\n",
              " 'How important are the following space types/amenities to your creative practice or business? Photography studio/dark room',\n",
              " 'How important are the following space types/amenities to your creative practice or business? Music practice room',\n",
              " 'How important are the following space types/amenities to your creative practice or business? Music recording studio',\n",
              " 'How important are the following space types/amenities to your creative practice or business? Computer lab',\n",
              " 'How important are the following space types/amenities to your creative practice or business? Individual artist studio (any discipline)',\n",
              " 'How important are the following space types/amenities to your creative practice or business? Shared artist studio (any discipline)',\n",
              " 'How important are the following space types/amenities to your creative practice or business? Mirrored dance/rehearsal studio',\n",
              " 'How important are the following space types/amenities to your creative practice or business? Podcasting studio',\n",
              " 'How important are the following space types/amenities to your creative practice or business? Projector/screening equipment',\n",
              " 'How important are the following space types/amenities to your creative practice or business? Industrial arts workshops (wood, metal)',\n",
              " 'How important are the following space types/amenities to your creative practice or business? Textile/fashion lab',\n",
              " 'How important are the following space types/amenities to your creative practice or business? Writing room or quiet area',\n",
              " 'How important are the following space types/amenities to your creative practice or business? General co-working space',\n",
              " 'How important are the following space types/amenities to your creative practice or business? Theater/auditorium (<100 seats)',\n",
              " 'How important are the following space types/amenities to your creative practice or business? Theater/auditorium (100+ seats)',\n",
              " 'How important are the following space types/amenities to your creative practice or business? Gallery/exhibition space',\n",
              " 'How important are the following space types/amenities to your creative practice or business? Retail opportunities',\n",
              " 'How important are the following space types/amenities to your creative practice or business? Secure storage/lockers',\n",
              " 'How important are the following space types/amenities to your creative practice or business? Business services, such as mailboxes, copy/fax, printing',\n",
              " 'How important are the following space types/amenities to your creative practice or business? Collaboration/networking events',\n",
              " \"If looking for a new creative workspace, what's your affordability range (monthly costs including rent/mortgage, insurance, utilities)?.1\",\n",
              " \"Did you know about The Non-Profit's annual creative business development program, Periscope: Artist Entrepreneur Training?\",\n",
              " \"Any other comments on your reasons for staying in or departing from The Area's creative ecosystem?\",\n",
              " \"Feel free to share any additional insights about The Non-Profit or The Area's Creative Economy not covered in this survey:\"]"
            ]
          },
          "execution_count": 17,
          "metadata": {},
          "output_type": "execute_result"
        }
      ],
      "source": [
        "potential_columns_2 = [col for col in column_names if any(keyword in col.lower() for keyword in [\"creative\", \"teach\", \"discipline\"])]\n",
        "potential_columns_2\n"
      ]
    },
    {
      "cell_type": "code",
      "execution_count": 18,
      "metadata": {},
      "outputs": [
        {
          "data": {
            "text/plain": [
              "0"
            ]
          },
          "execution_count": 18,
          "metadata": {},
          "output_type": "execute_result"
        }
      ],
      "source": [
        "data['Creative Disciplines You Teach'].notna().sum()"
      ]
    },
    {
      "cell_type": "markdown",
      "metadata": {
        "id": "rL_MSZXOJVPi"
      },
      "source": [
        "In the returned result, the 'Creative Disciplines You Teach' is the most direct question for the analysis. However, after checking the valid entry under this column, the same trouble is that there is **no data could be used**. "
      ]
    },
    {
      "cell_type": "markdown",
      "metadata": {
        "id": "aQ3wOy95j-GU"
      },
      "source": [
        "# Q5 Distribution of Primary Roles as Arts Educators"
      ]
    },
    {
      "cell_type": "markdown",
      "metadata": {},
      "source": [
        "To find the primary roles as arts educators, I found two columns which are related to this question. The first one is 'Describe Your Primary Role in Creative Sector' which could help to find the roles of arts educators. The second one is 'Primary Creative Activity' which could help to find the primary role of the arts educators. The following cell shows the answer of the primary role as arts educators. However, every participant answers a unique answer, which needs to be categorized."
      ]
    },
    {
      "cell_type": "code",
      "execution_count": 19,
      "metadata": {
        "colab": {
          "base_uri": "https://localhost:8080/"
        },
        "id": "G4t42A1TWmje",
        "outputId": "7424a246-9d6a-425c-c325-0366c9422d57"
      },
      "outputs": [
        {
          "data": {
            "text/plain": [
              "Primary Creative Activity\n",
              "Comedy                1\n",
              "Dance                 1\n",
              "Film Making           1\n",
              "Theater               1\n",
              "Installation Art      1\n",
              "Poetry                1\n",
              "Woodworking           1\n",
              "Art Curation          1\n",
              "Drawing               1\n",
              "Graffiti              1\n",
              "Culinary Arts         1\n",
              "Performance Art       1\n",
              "Game Design           1\n",
              "Dance Choreography    1\n",
              "Metalworking          1\n",
              "Digital Art           1\n",
              "Music Production      1\n",
              "Calligraphy           1\n",
              "Printmaking           1\n",
              "Jewelry Making        1\n",
              "Fashion Design        1\n",
              "Puppetry              1\n",
              "Mime                  1\n",
              "Painting              1\n",
              "Art Teaching          1\n",
              "Textile Art           1\n",
              "Web Design            1\n",
              "Graphic Design        1\n",
              "Video Art             1\n",
              "Illustration          1\n",
              "Street Art            1\n",
              "Animation             1\n",
              "Writing               1\n",
              "Photography           1\n",
              "Singing               1\n",
              "Pottery               1\n",
              "Crafts                1\n",
              "Magic                 1\n",
              "Stand-up Comedy       1\n",
              "Sculpting             1\n",
              "Acting                1\n",
              "Mixed Media Art       1\n",
              "Ceramics              1\n",
              "Glass Blowing         1\n",
              "Name: count, dtype: int64"
            ]
          },
          "execution_count": 19,
          "metadata": {},
          "output_type": "execute_result"
        }
      ],
      "source": [
        "data[data['Describe Your Primary Role in Creative Sector'] == 'Arts Educator or Teaching Artist (Art teachers, music teachers, teaching artists, dance teachers, visiting artists)']['Primary Creative Activity'].value_counts()"
      ]
    },
    {
      "cell_type": "code",
      "execution_count": 20,
      "metadata": {},
      "outputs": [
        {
          "data": {
            "text/plain": [
              "Primary Creative Activity\n",
              "Comedy                1\n",
              "Dance                 1\n",
              "Film Making           1\n",
              "Theater               1\n",
              "Installation Art      1\n",
              "Poetry                1\n",
              "Woodworking           1\n",
              "Art Curation          1\n",
              "Drawing               1\n",
              "Graffiti              1\n",
              "Culinary Arts         1\n",
              "Performance Art       1\n",
              "Game Design           1\n",
              "Dance Choreography    1\n",
              "Metalworking          1\n",
              "Digital Art           1\n",
              "Music Production      1\n",
              "Calligraphy           1\n",
              "Printmaking           1\n",
              "Jewelry Making        1\n",
              "Fashion Design        1\n",
              "Puppetry              1\n",
              "Mime                  1\n",
              "Painting              1\n",
              "Art Teaching          1\n",
              "Textile Art           1\n",
              "Web Design            1\n",
              "Graphic Design        1\n",
              "Video Art             1\n",
              "Illustration          1\n",
              "Street Art            1\n",
              "Animation             1\n",
              "Writing               1\n",
              "Photography           1\n",
              "Singing               1\n",
              "Pottery               1\n",
              "Crafts                1\n",
              "Magic                 1\n",
              "Stand-up Comedy       1\n",
              "Sculpting             1\n",
              "Acting                1\n",
              "Mixed Media Art       1\n",
              "Ceramics              1\n",
              "Glass Blowing         1\n",
              "Name: count, dtype: int64"
            ]
          },
          "execution_count": 20,
          "metadata": {},
          "output_type": "execute_result"
        }
      ],
      "source": [
        "data[data['Describe Your Primary Role in Creative Sector'] == 'Arts Educator or Teaching Artist (Art teachers, music teachers, teaching artists, dance teachers, visiting artists)']['Primary Creative Activity'].value_counts()"
      ]
    },
    {
      "cell_type": "code",
      "execution_count": 21,
      "metadata": {},
      "outputs": [
        {
          "data": {
            "text/plain": [
              "Primary Creative Activity\n",
              "Visual Arts        12\n",
              "Performing Arts    10\n",
              "Crafts              8\n",
              "Media Arts          7\n",
              "Literary Arts       2\n",
              "Music               2\n",
              "Education           1\n",
              "Culinary Arts       1\n",
              "Fashion             1\n",
              "Name: count, dtype: int64"
            ]
          },
          "execution_count": 21,
          "metadata": {},
          "output_type": "execute_result"
        }
      ],
      "source": [
        "# Define a dictionary to map each unique value to its category\n",
        "category_dict = {\n",
        "    'Comedy': 'Performing Arts',\n",
        "    'Dance': 'Performing Arts',\n",
        "    'Film Making': 'Media Arts',\n",
        "    'Theater': 'Performing Arts',\n",
        "    'Installation Art': 'Visual Arts',\n",
        "    'Poetry': 'Literary Arts',\n",
        "    'Woodworking': 'Crafts',\n",
        "    'Art Curation': 'Visual Arts',\n",
        "    'Drawing': 'Visual Arts',\n",
        "    'Graffiti': 'Visual Arts',\n",
        "    'Culinary Arts': 'Culinary Arts',\n",
        "    'Performance Art': 'Performing Arts',\n",
        "    'Game Design': 'Media Arts',\n",
        "    'Dance Choreography': 'Performing Arts',\n",
        "    'Metalworking': 'Crafts',\n",
        "    'Digital Art': 'Media Arts',\n",
        "    'Music Production': 'Music',\n",
        "    'Calligraphy': 'Visual Arts',\n",
        "    'Printmaking': 'Visual Arts',\n",
        "    'Jewelry Making': 'Crafts',\n",
        "    'Fashion Design': 'Fashion',\n",
        "    'Puppetry': 'Performing Arts',\n",
        "    'Mime': 'Performing Arts',\n",
        "    'Painting': 'Visual Arts',\n",
        "    'Art Teaching': 'Education',\n",
        "    'Textile Art': 'Crafts',\n",
        "    'Web Design': 'Media Arts',\n",
        "    'Graphic Design': 'Media Arts',\n",
        "    'Video Art': 'Media Arts',\n",
        "    'Illustration': 'Visual Arts',\n",
        "    'Street Art': 'Visual Arts',\n",
        "    'Animation': 'Media Arts',\n",
        "    'Writing': 'Literary Arts',\n",
        "    'Photography': 'Visual Arts',\n",
        "    'Singing': 'Music',\n",
        "    'Pottery': 'Crafts',\n",
        "    'Crafts': 'Crafts',\n",
        "    'Magic': 'Performing Arts',\n",
        "    'Stand-up Comedy': 'Performing Arts',\n",
        "    'Sculpting': 'Visual Arts',\n",
        "    'Acting': 'Performing Arts',\n",
        "    'Mixed Media Art': 'Visual Arts',\n",
        "    'Ceramics': 'Crafts',\n",
        "    'Glass Blowing': 'Crafts'\n",
        "}\n",
        "\n",
        "data_categorized = data[data['Describe Your Primary Role in Creative Sector'] == 'Arts Educator or Teaching Artist (Art teachers, music teachers, teaching artists, dance teachers, visiting artists)']['Primary Creative Activity'].replace(category_dict)\n",
        "\n",
        "data_categorized.value_counts()"
      ]
    },
    {
      "cell_type": "markdown",
      "metadata": {},
      "source": [
        "The above cell categorizes the different unique responses into fewer categories for the purposes of analysis. The categorization dictionary is interpretated by AI and cross checked by the project team."
      ]
    },
    {
      "cell_type": "code",
      "execution_count": 22,
      "metadata": {
        "colab": {
          "base_uri": "https://localhost:8080/",
          "height": 454
        },
        "id": "Jmfdka4vWrEB",
        "outputId": "3ac0ffea-2ef4-4c54-c696-9a2cbfe9f38a"
      },
      "outputs": [
        {
          "name": "stderr",
          "output_type": "stream",
          "text": [
            "/tmp/ipykernel_2664/3765577310.py:3: FutureWarning: \n",
            "\n",
            "Passing `palette` without assigning `hue` is deprecated and will be removed in v0.14.0. Assign the `y` variable to `hue` and set `legend=False` for the same effect.\n",
            "\n",
            "  sns.barplot(y=role_distribution.index, x=role_distribution.values, palette=\"viridis\")\n"
          ]
        },
        {
          "data": {
            "image/png": "[encoded data removed]",
            "text/plain": [
              "<Figure size 640x480 with 1 Axes>"
            ]
          },
          "metadata": {},
          "output_type": "display_data"
        }
      ],
      "source": [
        "role_distribution = data_categorized.value_counts()\n",
        "\n",
        "sns.barplot(y=role_distribution.index, x=role_distribution.values, palette=\"viridis\")\n",
        "plt.title(\"Distribution of Primary Roles as Arts Educator\", fontsize=14, fontweight='bold')\n",
        "plt.xlabel(\"Count\", fontsize=10, fontweight='bold')\n",
        "plt.ylabel(\"Primary Role as Arts Educator\", fontsize=10, fontweight='bold')\n",
        "\n",
        "plt.tight_layout()\n",
        "plt.show()"
      ]
    },
    {
      "cell_type": "markdown",
      "metadata": {},
      "source": [
        "The bar chart illustrates the distribution of primary roles held by arts educators. **Visual Arts** educators have the highest count, surpassing all other categories with over 10 representatives. On the contrary, **Fashion**, **Culinary Arts**, and **Education** has the least representation with just above 0, while categories like **Performing Arts** and **Crafts** also show notable counts, each with around 7 to 9 educators."
      ]
    },
    {
      "cell_type": "markdown",
      "metadata": {},
      "source": [
        "# Appendix for UI"
      ]
    },
    {
      "cell_type": "markdown",
      "metadata": {},
      "source": [
        "The under cells are the data test and data processing while doing the UI development."
      ]
    },
    {
      "cell_type": "markdown",
      "metadata": {},
      "source": [
        "## UI#4a Figure for Space Needs Identified by Creative Entrepreneurs and Teaching Artists/Educators"
      ]
    },
    {
      "cell_type": "code",
      "execution_count": 23,
      "metadata": {},
      "outputs": [
        {
          "data": {
            "text/plain": [
              "Describe Your Primary Role in Creative Sector\n",
              "Creative Worker (In-house graphic designers, copywriters, art directors employed at a business working in the creative industries)                                                                50\n",
              "Arts Administrator (Theater managers, development staff, executive directors, program coordinators at an arts-based business usually a non-profit, e.g., at a museum, symphony, theater, etc.)    50\n",
              "Arts Funder (Foundations; national, state, and local arts agencies)                                                                                                                               50\n",
              "Business Professional (Attorneys, bankers, CPAs, other professionals working in small to large businesses outside of the creative industries)                                                     50\n",
              "Civic and/or Social Service Worker (Social worker, government employee, NGO working outside the arts)                                                                                             50\n",
              "Creative Entrepreneurs (Artists, performers, makers, creatives of all disciplines, self-employed)                                                                                                 50\n",
              "Arts Educator or Teaching Artist (Art teachers, music teachers, teaching artists, dance teachers, visiting artists)                                                                               50\n",
              "Name: count, dtype: int64"
            ]
          },
          "execution_count": 23,
          "metadata": {},
          "output_type": "execute_result"
        }
      ],
      "source": [
        "data['Describe Your Primary Role in Creative Sector'].value_counts()"
      ]
    },
    {
      "cell_type": "code",
      "execution_count": 24,
      "metadata": {},
      "outputs": [
        {
          "name": "stdout",
          "output_type": "stream",
          "text": [
            "Rate Barriers to Success in Creative Practice Access to affordable creative practice/development space/n\n",
            "Rate Barriers to Success in Creative Practice Access to affordable performance/presentation space/n\n",
            "Rate Barriers to Success for Artists/Educators Access to affordable creative practice/development space/n\n",
            "Rate Barriers to Success for Artists/Educators Access to affordable performance/presentation space/n\n",
            "Rate Barriers to Success in Your Organization Access to affordable creative practice/development space/n\n",
            "Rate Barriers to Success in Your Organization Access to affordable performance/presentation space/n\n",
            "Did the events of 2020 affect your need for a creative space?/n\n",
            "How often do you find your current space options inadequate for the development or presentation of your creative practice?/n\n",
            "What type of space do you mainly use for your creative work?/n\n",
            "If you have work space, do you own or lease your own space?/n\n",
            "If you have a workspace, what's your monthly cost (including rent/mortgage, insurance, utilities, etc.)?/n\n",
            "If you are currently paying for space, how would you rate the affordability of your current space? (1-Extremely affordable, 2 - Affordable, 3 - Neutral, 4 - Unaffordable, 5 - Extremely unaffordable)/n\n",
            "Have your rent or space costs increased in the past 2 years?/n\n",
            "Have cost issues forced you to relocate to a new space in the past year?/n\n",
            "What types of spaces would you prefer to work in?/n\n",
            "Would you be interested in having creative development/presentation space within a larger arts hub or campus in Greater Nashville?/n\n",
            "If looking for a new creative workspace, what's your affordability range (monthly costs including rent/mortgage, insurance, utilities)?/n\n",
            "Rate the importance of each aspect when considering a move to a new creative space Dedicated workspaces/workstations/n\n",
            "Rate the importance of each aspect when considering a move to a new creative space Parking and accessibility/n\n",
            "Rate the importance of each aspect when considering a move to a new creative space Smaller conference rooms/ meeting/n\n",
            "Rate the importance of each aspect when considering a move to a new creative space Storage/n\n",
            "Rate the importance of each aspect when considering a move to a new creative space Green space/n\n",
            "Rate the importance of each aspect when considering a move to a new creative space Large event space/n\n",
            "Rate the importance of each aspect when considering a move to a new creative space Retail space/n\n",
            "Rate the importance of each aspect when considering a move to a new creative space Shared workspaces/workstations/n\n",
            "Rate the importance of each aspect when considering a move to a new creative space Restaurant/n\n",
            "Rate the importance of each aspect when considering a move to a new creative space Shared back office services/n\n",
            "Rate the importance of each amenity when considering a move to a new space Photography studio/n\n",
            "Rate the importance of each amenity when considering a move to a new space Music practice room/n\n",
            "Rate the importance of each amenity when considering a move to a new space Music recording studio/n\n",
            "Rate the importance of each amenity when considering a move to a new space Computer lab/n\n",
            "Rate the importance of each amenity when considering a move to a new space Individual artist studio (any discipline)/n\n",
            "Rate the importance of each amenity when considering a move to a new space Shared artist studio (any discipline)/n\n",
            "Rate the importance of each amenity when considering a move to a new space Mirrored dance/rehearsal studio/n\n",
            "Rate the importance of each amenity when considering a move to a new space Podcasting studio/n\n",
            "Rate the importance of each amenity when considering a move to a new space Projector/screening equipment/n\n",
            "Rate the importance of each amenity when considering a move to a new space Writing room or quiet area/n\n",
            "Rate the importance of each amenity when considering a move to a new space General co-working space/n\n",
            "Rate the importance of each amenity when considering a move to a new space Theater/auditorium (<100 seats)/n\n",
            "Rate the importance of each amenity when considering a move to a new space Theater/auditorium (100+ seats)/n\n",
            "Rate the importance of each amenity when considering a move to a new space Gallery/exhibition space/n\n",
            "Rate the importance of each amenity when considering a move to a new space Retail opportunities/n\n",
            "Rate the importance of each amenity when considering a move to a new space Secure storage/lockers/n\n",
            "Rate the importance of each amenity when considering a move to a new space Business services, such as mailboxes, copy/fax, printing/n\n",
            "Rate the importance of each amenity when considering a move to a new space Collaboration/networking events/n\n",
            "If you need a specific space for art creation/presentation, please describe your needs:/n\n",
            "Does your organization have a designated physical space?/n\n",
            "If you have a physical space, please rate its features: Administrative space (Open/flex offices)/n\n",
            "If you have a physical space, please rate its features: Administrative space (Private offices)/n\n",
            "If you have a physical space, please rate its features: Meeting space/n\n",
            "If you have a physical space, please rate its features: Classrooms/teaching space/n\n",
            "If you have a physical space, please rate its features: Lobby/reception area/n\n",
            "If you have a physical space, please rate its features: Studio space for artists (Individual or shared)/n\n",
            "If you have a physical space, please rate its features: Specialized work spaces (recording studio, dark room)/n\n",
            "If you have a physical space, please rate its features: Gallery/display space/n\n",
            "If you have a physical space, please rate its features: Retail space/n\n",
            "If you have a physical space, please rate its features: Storage for productions/equipment/n\n",
            "If you have a physical space, please rate its features: Large public event/performance space (+100 people)/n\n",
            "If you have a physical space, please rate its features: Small public event/performance space (>100 people)/n\n",
            "If you have a physical space, please rate its features: Rehearsal space/n\n",
            "If you have a physical space, please rate its features: Kitchen/Teaching Kitchen/n\n",
            "If you have a physical space, please rate its features: Parking/n\n",
            "If you have a physical space, please rate its features: Accessibility/location/n\n",
            "Did the events of 2020 alter your organization's need for creative space?/n\n",
            "Typically, how many people attend meetings in your current space?/n\n",
            "How frequently is your space insufficient for meetings?/n\n",
            "If you have a workspace, what's your monthly cost (including rent/mortgage, insurance, utilities, etc.)?.1/n\n",
            "Rate the affordability of your current space (1-Extremely affordable, 2-Affordable, 3-Neutral, 4-Unaffordable, 5-Extremely unaffordable).1/n\n",
            "Have your rent or space costs increased in the past 2 years?.1/n\n",
            "Have cost issues forced you to relocate to a new space in the past year?.1/n\n",
            "Considering your current options for creative development and presentation in The Area, are your needs being met? Administrative space (Open/flex offices)/n\n",
            "Considering your current options for creative development and presentation in The Area, are your needs being met? Administrative space (Private offices)/n\n",
            "Considering your current options for creative development and presentation in The Area, are your needs being met? Meeting space/n\n",
            "Considering your current options for creative development and presentation in The Area, are your needs being met? Classrooms/teaching space/n\n",
            "Considering your current options for creative development and presentation in The Area, are your needs being met? Studio space for artists (Individual or shared)/n\n",
            "Considering your current options for creative development and presentation in The Area, are your needs being met? Specialized work spaces (recording studio, dark room)/n\n",
            "Considering your current options for creative development and presentation in The Area, are your needs being met? Gallery/display space/n\n",
            "Considering your current options for creative development and presentation in The Area, are your needs being met? Retail space/n\n",
            "Considering your current options for creative development and presentation in The Area, are your needs being met? Large public event/performance space (+100 people)/n\n",
            "Considering your current options for creative development and presentation in The Area, are your needs being met? Small public event/performance space (>100 people)/n\n",
            "Considering your current options for creative development and presentation in The Area, are your needs being met? Rehearsal space/n\n",
            "Considering your current options for creative development and presentation in The Area, are your needs being met? Outdoor/Green space for events/artwork/n\n",
            "How important are the following space types/amenities to your creative practice or business? Photography studio/dark room/n\n",
            "How important are the following space types/amenities to your creative practice or business? Music practice room/n\n",
            "How important are the following space types/amenities to your creative practice or business? Music recording studio/n\n",
            "How important are the following space types/amenities to your creative practice or business? Computer lab/n\n",
            "How important are the following space types/amenities to your creative practice or business? Individual artist studio (any discipline)/n\n",
            "How important are the following space types/amenities to your creative practice or business? Shared artist studio (any discipline)/n\n",
            "How important are the following space types/amenities to your creative practice or business? Mirrored dance/rehearsal studio/n\n",
            "How important are the following space types/amenities to your creative practice or business? Podcasting studio/n\n",
            "How important are the following space types/amenities to your creative practice or business? Projector/screening equipment/n\n",
            "How important are the following space types/amenities to your creative practice or business? Industrial arts workshops (wood, metal)/n\n",
            "How important are the following space types/amenities to your creative practice or business? Textile/fashion lab/n\n",
            "How important are the following space types/amenities to your creative practice or business? Writing room or quiet area/n\n",
            "How important are the following space types/amenities to your creative practice or business? General co-working space/n\n",
            "How important are the following space types/amenities to your creative practice or business? Theater/auditorium (<100 seats)/n\n",
            "How important are the following space types/amenities to your creative practice or business? Theater/auditorium (100+ seats)/n\n",
            "How important are the following space types/amenities to your creative practice or business? Gallery/exhibition space/n\n",
            "How important are the following space types/amenities to your creative practice or business? Retail opportunities/n\n",
            "How important are the following space types/amenities to your creative practice or business? Secure storage/lockers/n\n",
            "How important are the following space types/amenities to your creative practice or business? Business services, such as mailboxes, copy/fax, printing/n\n",
            "How important are the following space types/amenities to your creative practice or business? Collaboration/networking events/n\n",
            "If you need a specific space for art creation/presentation not listed, please describe your needs:/n\n",
            "If looking for a new creative workspace, what's your affordability range (monthly costs including rent/mortgage, insurance, utilities)?.1/n\n",
            "What additional features are important to you for an arts-business co-working space?/n\n"
          ]
        }
      ],
      "source": [
        "column_names = data.columns\n",
        "potential_columns = [col for col in column_names if any(keyword in col.lower() for keyword in [\"space\"])]\n",
        "for i in potential_columns:\n",
        "    print(i+ \"/n\")"
      ]
    },
    {
      "cell_type": "code",
      "execution_count": 25,
      "metadata": {},
      "outputs": [
        {
          "name": "stdout",
          "output_type": "stream",
          "text": [
            "How important are the following space types/amenities to your creative practice or business? Photography studio/dark room\n",
            "Nice to have but not important                                                                                               15\n",
            "Not at all important                                                                                                         13\n",
            "Somewhat important                                                                                                           13\n",
            "Critically important                                                                                                          9\n",
            "Name: count, dtype: int64\n",
            "How important are the following space types/amenities to your creative practice or business? Photography studio/dark room\n",
            "Somewhat important                                                                                                           17\n",
            "Not at all important                                                                                                         14\n",
            "Critically important                                                                                                         12\n",
            "Nice to have but not important                                                                                                7\n",
            "Name: count, dtype: int64\n"
          ]
        }
      ],
      "source": [
        "data['What type of space do you mainly use for your creative work?'].unique()\n",
        "\n",
        "print(data[data['Describe Your Primary Role in Creative Sector'] == 'Arts Administrator (Theater managers, development staff, executive directors, program coordinators at an arts-based business usually a non-profit, e.g., at a museum, symphony, theater, etc.)'][['How important are the following space types/amenities to your creative practice or business? Photography studio/dark room']].value_counts())\n",
        "print(data[data['Describe Your Primary Role in Creative Sector'] == 'Creative Worker (In-house graphic designers, copywriters, art directors employed at a business working in the creative industries)'][['How important are the following space types/amenities to your creative practice or business? Photography studio/dark room']].value_counts())\n",
        "\n"
      ]
    },
    {
      "cell_type": "code",
      "execution_count": 26,
      "metadata": {},
      "outputs": [
        {
          "name": "stdout",
          "output_type": "stream",
          "text": [
            "['How', 'important', 'are', 'the', 'following', 'space', 'types/amenities', 'to', 'your', 'creative', 'practice', 'or', 'business?', 'Photography', 'studio/dark', 'room']\n",
            "['How', 'important', 'are', 'the', 'following', 'space', 'types/amenities', 'to', 'your', 'creative', 'practice', 'or', 'business?', 'Music', 'practice', 'room']\n",
            "['How', 'important', 'are', 'the', 'following', 'space', 'types/amenities', 'to', 'your', 'creative', 'practice', 'or', 'business?', 'Music', 'recording', 'studio']\n",
            "['How', 'important', 'are', 'the', 'following', 'space', 'types/amenities', 'to', 'your', 'creative', 'practice', 'or', 'business?', 'Computer', 'lab']\n",
            "['How', 'important', 'are', 'the', 'following', 'space', 'types/amenities', 'to', 'your', 'creative', 'practice', 'or', 'business?', 'Individual', 'artist', 'studio', '(any', 'discipline)']\n",
            "['How', 'important', 'are', 'the', 'following', 'space', 'types/amenities', 'to', 'your', 'creative', 'practice', 'or', 'business?', 'Shared', 'artist', 'studio', '(any', 'discipline)']\n",
            "['How', 'important', 'are', 'the', 'following', 'space', 'types/amenities', 'to', 'your', 'creative', 'practice', 'or', 'business?', 'Mirrored', 'dance/rehearsal', 'studio']\n",
            "['How', 'important', 'are', 'the', 'following', 'space', 'types/amenities', 'to', 'your', 'creative', 'practice', 'or', 'business?', 'Podcasting', 'studio']\n",
            "['How', 'important', 'are', 'the', 'following', 'space', 'types/amenities', 'to', 'your', 'creative', 'practice', 'or', 'business?', 'Projector/screening', 'equipment']\n",
            "['How', 'important', 'are', 'the', 'following', 'space', 'types/amenities', 'to', 'your', 'creative', 'practice', 'or', 'business?', 'Industrial', 'arts', 'workshops', '(wood,', 'metal)']\n",
            "['How', 'important', 'are', 'the', 'following', 'space', 'types/amenities', 'to', 'your', 'creative', 'practice', 'or', 'business?', 'Textile/fashion', 'lab']\n",
            "['How', 'important', 'are', 'the', 'following', 'space', 'types/amenities', 'to', 'your', 'creative', 'practice', 'or', 'business?', 'Writing', 'room', 'or', 'quiet', 'area']\n",
            "['How', 'important', 'are', 'the', 'following', 'space', 'types/amenities', 'to', 'your', 'creative', 'practice', 'or', 'business?', 'General', 'co-working', 'space']\n",
            "['How', 'important', 'are', 'the', 'following', 'space', 'types/amenities', 'to', 'your', 'creative', 'practice', 'or', 'business?', 'Theater/auditorium', '(<100', 'seats)']\n",
            "['How', 'important', 'are', 'the', 'following', 'space', 'types/amenities', 'to', 'your', 'creative', 'practice', 'or', 'business?', 'Theater/auditorium', '(100+', 'seats)']\n",
            "['How', 'important', 'are', 'the', 'following', 'space', 'types/amenities', 'to', 'your', 'creative', 'practice', 'or', 'business?', 'Gallery/exhibition', 'space']\n",
            "['How', 'important', 'are', 'the', 'following', 'space', 'types/amenities', 'to', 'your', 'creative', 'practice', 'or', 'business?', 'Retail', 'opportunities']\n",
            "['How', 'important', 'are', 'the', 'following', 'space', 'types/amenities', 'to', 'your', 'creative', 'practice', 'or', 'business?', 'Secure', 'storage/lockers']\n",
            "['How', 'important', 'are', 'the', 'following', 'space', 'types/amenities', 'to', 'your', 'creative', 'practice', 'or', 'business?', 'Business', 'services,', 'such', 'as', 'mailboxes,', 'copy/fax,', 'printing']\n",
            "['How', 'important', 'are', 'the', 'following', 'space', 'types/amenities', 'to', 'your', 'creative', 'practice', 'or', 'business?', 'Collaboration/networking', 'events']\n"
          ]
        }
      ],
      "source": [
        "space_or_amenity_columns = [col for col in data.columns if 'how important' in col.lower()]\n",
        "space_or_amenity_columns\n",
        "amenity_list = []\n",
        "for i in space_or_amenity_columns:\n",
        "        word_list = i.split()\n",
        "        print(word_list)\n",
        "        # index = word_list.index('space')\n",
        "        # rest_of_string = ' '.join(word_list[index+1:])\n",
        "        # amenity_list.append(rest_of_string)\n",
        "\n"
      ]
    },
    {
      "cell_type": "code",
      "execution_count": 27,
      "metadata": {},
      "outputs": [
        {
          "data": {
            "text/plain": [
              "0                            Printmaking Studio\n",
              "1                 Customizable Exhibition Space\n",
              "2                                           NaN\n",
              "3                                           NaN\n",
              "4                                           NaN\n",
              "                         ...                   \n",
              "345          Dance Studio with Mirrors and Bars\n",
              "346          Dedicated mural and graffiti walls\n",
              "347                                         NaN\n",
              "348    Room with large floor space for movement\n",
              "349                                         NaN\n",
              "Name: If you need a specific space for art creation/presentation not listed, please describe your needs:, Length: 350, dtype: object"
            ]
          },
          "execution_count": 27,
          "metadata": {},
          "output_type": "execute_result"
        }
      ],
      "source": [
        "'If you need a specific space for art creation/presentation not listed, please describe your needs:'\n",
        "data['If you need a specific space for art creation/presentation not listed, please describe your needs:']"
      ]
    },
    {
      "cell_type": "markdown",
      "metadata": {},
      "source": [
        "## UI#4b Figure for Space Needs for Arts Admiinstrators and Creative Workers"
      ]
    },
    {
      "cell_type": "code",
      "execution_count": 28,
      "metadata": {},
      "outputs": [
        {
          "data": {
            "text/html": [
              "<div>\n",
              "<style scoped>\n",
              "    .dataframe tbody tr th:only-of-type {\n",
              "        vertical-align: middle;\n",
              "    }\n",
              "\n",
              "    .dataframe tbody tr th {\n",
              "        vertical-align: top;\n",
              "    }\n",
              "\n",
              "    .dataframe thead th {\n",
              "        text-align: right;\n",
              "    }\n",
              "</style>\n",
              "<table border=\"1\" class=\"dataframe\">\n",
              "  <thead>\n",
              "    <tr style=\"text-align: right;\">\n",
              "      <th></th>\n",
              "      <th>What type of space do you mainly use for your creative work?</th>\n",
              "    </tr>\n",
              "  </thead>\n",
              "  <tbody>\n",
              "    <tr>\n",
              "      <th>1</th>\n",
              "      <td>NaN</td>\n",
              "    </tr>\n",
              "    <tr>\n",
              "      <th>13</th>\n",
              "      <td>NaN</td>\n",
              "    </tr>\n",
              "    <tr>\n",
              "      <th>20</th>\n",
              "      <td>NaN</td>\n",
              "    </tr>\n",
              "    <tr>\n",
              "      <th>28</th>\n",
              "      <td>NaN</td>\n",
              "    </tr>\n",
              "    <tr>\n",
              "      <th>32</th>\n",
              "      <td>NaN</td>\n",
              "    </tr>\n",
              "    <tr>\n",
              "      <th>52</th>\n",
              "      <td>NaN</td>\n",
              "    </tr>\n",
              "    <tr>\n",
              "      <th>62</th>\n",
              "      <td>NaN</td>\n",
              "    </tr>\n",
              "    <tr>\n",
              "      <th>65</th>\n",
              "      <td>NaN</td>\n",
              "    </tr>\n",
              "    <tr>\n",
              "      <th>73</th>\n",
              "      <td>NaN</td>\n",
              "    </tr>\n",
              "    <tr>\n",
              "      <th>81</th>\n",
              "      <td>NaN</td>\n",
              "    </tr>\n",
              "    <tr>\n",
              "      <th>85</th>\n",
              "      <td>NaN</td>\n",
              "    </tr>\n",
              "    <tr>\n",
              "      <th>93</th>\n",
              "      <td>NaN</td>\n",
              "    </tr>\n",
              "    <tr>\n",
              "      <th>121</th>\n",
              "      <td>NaN</td>\n",
              "    </tr>\n",
              "    <tr>\n",
              "      <th>134</th>\n",
              "      <td>NaN</td>\n",
              "    </tr>\n",
              "    <tr>\n",
              "      <th>137</th>\n",
              "      <td>NaN</td>\n",
              "    </tr>\n",
              "    <tr>\n",
              "      <th>138</th>\n",
              "      <td>NaN</td>\n",
              "    </tr>\n",
              "    <tr>\n",
              "      <th>141</th>\n",
              "      <td>NaN</td>\n",
              "    </tr>\n",
              "    <tr>\n",
              "      <th>142</th>\n",
              "      <td>NaN</td>\n",
              "    </tr>\n",
              "    <tr>\n",
              "      <th>147</th>\n",
              "      <td>NaN</td>\n",
              "    </tr>\n",
              "    <tr>\n",
              "      <th>151</th>\n",
              "      <td>NaN</td>\n",
              "    </tr>\n",
              "    <tr>\n",
              "      <th>176</th>\n",
              "      <td>NaN</td>\n",
              "    </tr>\n",
              "    <tr>\n",
              "      <th>191</th>\n",
              "      <td>NaN</td>\n",
              "    </tr>\n",
              "    <tr>\n",
              "      <th>204</th>\n",
              "      <td>NaN</td>\n",
              "    </tr>\n",
              "    <tr>\n",
              "      <th>205</th>\n",
              "      <td>NaN</td>\n",
              "    </tr>\n",
              "    <tr>\n",
              "      <th>207</th>\n",
              "      <td>NaN</td>\n",
              "    </tr>\n",
              "    <tr>\n",
              "      <th>218</th>\n",
              "      <td>NaN</td>\n",
              "    </tr>\n",
              "    <tr>\n",
              "      <th>220</th>\n",
              "      <td>NaN</td>\n",
              "    </tr>\n",
              "    <tr>\n",
              "      <th>221</th>\n",
              "      <td>NaN</td>\n",
              "    </tr>\n",
              "    <tr>\n",
              "      <th>224</th>\n",
              "      <td>NaN</td>\n",
              "    </tr>\n",
              "    <tr>\n",
              "      <th>236</th>\n",
              "      <td>NaN</td>\n",
              "    </tr>\n",
              "    <tr>\n",
              "      <th>237</th>\n",
              "      <td>NaN</td>\n",
              "    </tr>\n",
              "    <tr>\n",
              "      <th>257</th>\n",
              "      <td>NaN</td>\n",
              "    </tr>\n",
              "    <tr>\n",
              "      <th>278</th>\n",
              "      <td>NaN</td>\n",
              "    </tr>\n",
              "    <tr>\n",
              "      <th>283</th>\n",
              "      <td>NaN</td>\n",
              "    </tr>\n",
              "    <tr>\n",
              "      <th>287</th>\n",
              "      <td>NaN</td>\n",
              "    </tr>\n",
              "    <tr>\n",
              "      <th>289</th>\n",
              "      <td>NaN</td>\n",
              "    </tr>\n",
              "    <tr>\n",
              "      <th>294</th>\n",
              "      <td>NaN</td>\n",
              "    </tr>\n",
              "    <tr>\n",
              "      <th>295</th>\n",
              "      <td>NaN</td>\n",
              "    </tr>\n",
              "    <tr>\n",
              "      <th>296</th>\n",
              "      <td>NaN</td>\n",
              "    </tr>\n",
              "    <tr>\n",
              "      <th>300</th>\n",
              "      <td>NaN</td>\n",
              "    </tr>\n",
              "    <tr>\n",
              "      <th>306</th>\n",
              "      <td>NaN</td>\n",
              "    </tr>\n",
              "    <tr>\n",
              "      <th>321</th>\n",
              "      <td>NaN</td>\n",
              "    </tr>\n",
              "    <tr>\n",
              "      <th>322</th>\n",
              "      <td>NaN</td>\n",
              "    </tr>\n",
              "    <tr>\n",
              "      <th>323</th>\n",
              "      <td>NaN</td>\n",
              "    </tr>\n",
              "    <tr>\n",
              "      <th>324</th>\n",
              "      <td>NaN</td>\n",
              "    </tr>\n",
              "    <tr>\n",
              "      <th>327</th>\n",
              "      <td>NaN</td>\n",
              "    </tr>\n",
              "    <tr>\n",
              "      <th>328</th>\n",
              "      <td>NaN</td>\n",
              "    </tr>\n",
              "    <tr>\n",
              "      <th>332</th>\n",
              "      <td>NaN</td>\n",
              "    </tr>\n",
              "    <tr>\n",
              "      <th>340</th>\n",
              "      <td>NaN</td>\n",
              "    </tr>\n",
              "    <tr>\n",
              "      <th>345</th>\n",
              "      <td>NaN</td>\n",
              "    </tr>\n",
              "  </tbody>\n",
              "</table>\n",
              "</div>"
            ],
            "text/plain": [
              "    What type of space do you mainly use for your creative work?\n",
              "1                                                  NaN          \n",
              "13                                                 NaN          \n",
              "20                                                 NaN          \n",
              "28                                                 NaN          \n",
              "32                                                 NaN          \n",
              "52                                                 NaN          \n",
              "62                                                 NaN          \n",
              "65                                                 NaN          \n",
              "73                                                 NaN          \n",
              "81                                                 NaN          \n",
              "85                                                 NaN          \n",
              "93                                                 NaN          \n",
              "121                                                NaN          \n",
              "134                                                NaN          \n",
              "137                                                NaN          \n",
              "138                                                NaN          \n",
              "141                                                NaN          \n",
              "142                                                NaN          \n",
              "147                                                NaN          \n",
              "151                                                NaN          \n",
              "176                                                NaN          \n",
              "191                                                NaN          \n",
              "204                                                NaN          \n",
              "205                                                NaN          \n",
              "207                                                NaN          \n",
              "218                                                NaN          \n",
              "220                                                NaN          \n",
              "221                                                NaN          \n",
              "224                                                NaN          \n",
              "236                                                NaN          \n",
              "237                                                NaN          \n",
              "257                                                NaN          \n",
              "278                                                NaN          \n",
              "283                                                NaN          \n",
              "287                                                NaN          \n",
              "289                                                NaN          \n",
              "294                                                NaN          \n",
              "295                                                NaN          \n",
              "296                                                NaN          \n",
              "300                                                NaN          \n",
              "306                                                NaN          \n",
              "321                                                NaN          \n",
              "322                                                NaN          \n",
              "323                                                NaN          \n",
              "324                                                NaN          \n",
              "327                                                NaN          \n",
              "328                                                NaN          \n",
              "332                                                NaN          \n",
              "340                                                NaN          \n",
              "345                                                NaN          "
            ]
          },
          "execution_count": 28,
          "metadata": {},
          "output_type": "execute_result"
        }
      ],
      "source": [
        "data[data['Describe Your Primary Role in Creative Sector'] == \"Arts Administrator (Theater managers, development staff, executive directors, program coordinators at an arts-based business usually a non-profit, e.g., at a museum, symphony, theater, etc.)\"][['What type of space do you mainly use for your creative work?']]\n",
        "\n",
        "\n"
      ]
    },
    {
      "cell_type": "code",
      "execution_count": 29,
      "metadata": {},
      "outputs": [
        {
          "data": {
            "text/html": [
              "<div>\n",
              "<style scoped>\n",
              "    .dataframe tbody tr th:only-of-type {\n",
              "        vertical-align: middle;\n",
              "    }\n",
              "\n",
              "    .dataframe tbody tr th {\n",
              "        vertical-align: top;\n",
              "    }\n",
              "\n",
              "    .dataframe thead th {\n",
              "        text-align: right;\n",
              "    }\n",
              "</style>\n",
              "<table border=\"1\" class=\"dataframe\">\n",
              "  <thead>\n",
              "    <tr style=\"text-align: right;\">\n",
              "      <th></th>\n",
              "      <th>What type of space do you mainly use for your creative work?</th>\n",
              "    </tr>\n",
              "  </thead>\n",
              "  <tbody>\n",
              "    <tr>\n",
              "      <th>1</th>\n",
              "      <td>NaN</td>\n",
              "    </tr>\n",
              "    <tr>\n",
              "      <th>13</th>\n",
              "      <td>NaN</td>\n",
              "    </tr>\n",
              "    <tr>\n",
              "      <th>20</th>\n",
              "      <td>NaN</td>\n",
              "    </tr>\n",
              "    <tr>\n",
              "      <th>28</th>\n",
              "      <td>NaN</td>\n",
              "    </tr>\n",
              "    <tr>\n",
              "      <th>32</th>\n",
              "      <td>NaN</td>\n",
              "    </tr>\n",
              "    <tr>\n",
              "      <th>52</th>\n",
              "      <td>NaN</td>\n",
              "    </tr>\n",
              "    <tr>\n",
              "      <th>62</th>\n",
              "      <td>NaN</td>\n",
              "    </tr>\n",
              "    <tr>\n",
              "      <th>65</th>\n",
              "      <td>NaN</td>\n",
              "    </tr>\n",
              "    <tr>\n",
              "      <th>73</th>\n",
              "      <td>NaN</td>\n",
              "    </tr>\n",
              "    <tr>\n",
              "      <th>81</th>\n",
              "      <td>NaN</td>\n",
              "    </tr>\n",
              "    <tr>\n",
              "      <th>85</th>\n",
              "      <td>NaN</td>\n",
              "    </tr>\n",
              "    <tr>\n",
              "      <th>93</th>\n",
              "      <td>NaN</td>\n",
              "    </tr>\n",
              "    <tr>\n",
              "      <th>121</th>\n",
              "      <td>NaN</td>\n",
              "    </tr>\n",
              "    <tr>\n",
              "      <th>134</th>\n",
              "      <td>NaN</td>\n",
              "    </tr>\n",
              "    <tr>\n",
              "      <th>137</th>\n",
              "      <td>NaN</td>\n",
              "    </tr>\n",
              "    <tr>\n",
              "      <th>138</th>\n",
              "      <td>NaN</td>\n",
              "    </tr>\n",
              "    <tr>\n",
              "      <th>141</th>\n",
              "      <td>NaN</td>\n",
              "    </tr>\n",
              "    <tr>\n",
              "      <th>142</th>\n",
              "      <td>NaN</td>\n",
              "    </tr>\n",
              "    <tr>\n",
              "      <th>147</th>\n",
              "      <td>NaN</td>\n",
              "    </tr>\n",
              "    <tr>\n",
              "      <th>151</th>\n",
              "      <td>NaN</td>\n",
              "    </tr>\n",
              "    <tr>\n",
              "      <th>176</th>\n",
              "      <td>NaN</td>\n",
              "    </tr>\n",
              "    <tr>\n",
              "      <th>191</th>\n",
              "      <td>NaN</td>\n",
              "    </tr>\n",
              "    <tr>\n",
              "      <th>204</th>\n",
              "      <td>NaN</td>\n",
              "    </tr>\n",
              "    <tr>\n",
              "      <th>205</th>\n",
              "      <td>NaN</td>\n",
              "    </tr>\n",
              "    <tr>\n",
              "      <th>207</th>\n",
              "      <td>NaN</td>\n",
              "    </tr>\n",
              "    <tr>\n",
              "      <th>218</th>\n",
              "      <td>NaN</td>\n",
              "    </tr>\n",
              "    <tr>\n",
              "      <th>220</th>\n",
              "      <td>NaN</td>\n",
              "    </tr>\n",
              "    <tr>\n",
              "      <th>221</th>\n",
              "      <td>NaN</td>\n",
              "    </tr>\n",
              "    <tr>\n",
              "      <th>224</th>\n",
              "      <td>NaN</td>\n",
              "    </tr>\n",
              "    <tr>\n",
              "      <th>236</th>\n",
              "      <td>NaN</td>\n",
              "    </tr>\n",
              "    <tr>\n",
              "      <th>237</th>\n",
              "      <td>NaN</td>\n",
              "    </tr>\n",
              "    <tr>\n",
              "      <th>257</th>\n",
              "      <td>NaN</td>\n",
              "    </tr>\n",
              "    <tr>\n",
              "      <th>278</th>\n",
              "      <td>NaN</td>\n",
              "    </tr>\n",
              "    <tr>\n",
              "      <th>283</th>\n",
              "      <td>NaN</td>\n",
              "    </tr>\n",
              "    <tr>\n",
              "      <th>287</th>\n",
              "      <td>NaN</td>\n",
              "    </tr>\n",
              "    <tr>\n",
              "      <th>289</th>\n",
              "      <td>NaN</td>\n",
              "    </tr>\n",
              "    <tr>\n",
              "      <th>294</th>\n",
              "      <td>NaN</td>\n",
              "    </tr>\n",
              "    <tr>\n",
              "      <th>295</th>\n",
              "      <td>NaN</td>\n",
              "    </tr>\n",
              "    <tr>\n",
              "      <th>296</th>\n",
              "      <td>NaN</td>\n",
              "    </tr>\n",
              "    <tr>\n",
              "      <th>300</th>\n",
              "      <td>NaN</td>\n",
              "    </tr>\n",
              "    <tr>\n",
              "      <th>306</th>\n",
              "      <td>NaN</td>\n",
              "    </tr>\n",
              "    <tr>\n",
              "      <th>321</th>\n",
              "      <td>NaN</td>\n",
              "    </tr>\n",
              "    <tr>\n",
              "      <th>322</th>\n",
              "      <td>NaN</td>\n",
              "    </tr>\n",
              "    <tr>\n",
              "      <th>323</th>\n",
              "      <td>NaN</td>\n",
              "    </tr>\n",
              "    <tr>\n",
              "      <th>324</th>\n",
              "      <td>NaN</td>\n",
              "    </tr>\n",
              "    <tr>\n",
              "      <th>327</th>\n",
              "      <td>NaN</td>\n",
              "    </tr>\n",
              "    <tr>\n",
              "      <th>328</th>\n",
              "      <td>NaN</td>\n",
              "    </tr>\n",
              "    <tr>\n",
              "      <th>332</th>\n",
              "      <td>NaN</td>\n",
              "    </tr>\n",
              "    <tr>\n",
              "      <th>340</th>\n",
              "      <td>NaN</td>\n",
              "    </tr>\n",
              "    <tr>\n",
              "      <th>345</th>\n",
              "      <td>NaN</td>\n",
              "    </tr>\n",
              "  </tbody>\n",
              "</table>\n",
              "</div>"
            ],
            "text/plain": [
              "    What type of space do you mainly use for your creative work?\n",
              "1                                                  NaN          \n",
              "13                                                 NaN          \n",
              "20                                                 NaN          \n",
              "28                                                 NaN          \n",
              "32                                                 NaN          \n",
              "52                                                 NaN          \n",
              "62                                                 NaN          \n",
              "65                                                 NaN          \n",
              "73                                                 NaN          \n",
              "81                                                 NaN          \n",
              "85                                                 NaN          \n",
              "93                                                 NaN          \n",
              "121                                                NaN          \n",
              "134                                                NaN          \n",
              "137                                                NaN          \n",
              "138                                                NaN          \n",
              "141                                                NaN          \n",
              "142                                                NaN          \n",
              "147                                                NaN          \n",
              "151                                                NaN          \n",
              "176                                                NaN          \n",
              "191                                                NaN          \n",
              "204                                                NaN          \n",
              "205                                                NaN          \n",
              "207                                                NaN          \n",
              "218                                                NaN          \n",
              "220                                                NaN          \n",
              "221                                                NaN          \n",
              "224                                                NaN          \n",
              "236                                                NaN          \n",
              "237                                                NaN          \n",
              "257                                                NaN          \n",
              "278                                                NaN          \n",
              "283                                                NaN          \n",
              "287                                                NaN          \n",
              "289                                                NaN          \n",
              "294                                                NaN          \n",
              "295                                                NaN          \n",
              "296                                                NaN          \n",
              "300                                                NaN          \n",
              "306                                                NaN          \n",
              "321                                                NaN          \n",
              "322                                                NaN          \n",
              "323                                                NaN          \n",
              "324                                                NaN          \n",
              "327                                                NaN          \n",
              "328                                                NaN          \n",
              "332                                                NaN          \n",
              "340                                                NaN          \n",
              "345                                                NaN          "
            ]
          },
          "execution_count": 29,
          "metadata": {},
          "output_type": "execute_result"
        }
      ],
      "source": [
        "data[data['Describe Your Primary Role in Creative Sector'] == 'Arts Administrator (Theater managers, development staff, executive directors, program coordinators at an arts-based business usually a non-profit, e.g., at a museum, symphony, theater, etc.)'][['What type of space do you mainly use for your creative work?']]"
      ]
    },
    {
      "cell_type": "code",
      "execution_count": 30,
      "metadata": {},
      "outputs": [
        {
          "data": {
            "text/html": [
              "<div>\n",
              "<style scoped>\n",
              "    .dataframe tbody tr th:only-of-type {\n",
              "        vertical-align: middle;\n",
              "    }\n",
              "\n",
              "    .dataframe tbody tr th {\n",
              "        vertical-align: top;\n",
              "    }\n",
              "\n",
              "    .dataframe thead th {\n",
              "        text-align: right;\n",
              "    }\n",
              "</style>\n",
              "<table border=\"1\" class=\"dataframe\">\n",
              "  <thead>\n",
              "    <tr style=\"text-align: right;\">\n",
              "      <th></th>\n",
              "      <th>If you need a specific space for art creation/presentation not listed, please describe your needs:</th>\n",
              "    </tr>\n",
              "  </thead>\n",
              "  <tbody>\n",
              "    <tr>\n",
              "      <th>0</th>\n",
              "      <td>Printmaking Studio</td>\n",
              "    </tr>\n",
              "    <tr>\n",
              "      <th>14</th>\n",
              "      <td>Multi-media Art Studio</td>\n",
              "    </tr>\n",
              "    <tr>\n",
              "      <th>15</th>\n",
              "      <td>Mobile studios for on-the-go creation</td>\n",
              "    </tr>\n",
              "    <tr>\n",
              "      <th>19</th>\n",
              "      <td>Experimental media labs</td>\n",
              "    </tr>\n",
              "    <tr>\n",
              "      <th>24</th>\n",
              "      <td>Green screens and film editing suites</td>\n",
              "    </tr>\n",
              "    <tr>\n",
              "      <th>31</th>\n",
              "      <td>Film Editing Suites</td>\n",
              "    </tr>\n",
              "    <tr>\n",
              "      <th>35</th>\n",
              "      <td>Photography Darkroom</td>\n",
              "    </tr>\n",
              "    <tr>\n",
              "      <th>37</th>\n",
              "      <td>3D Printing Lab</td>\n",
              "    </tr>\n",
              "    <tr>\n",
              "      <th>41</th>\n",
              "      <td>Glassblowing Studio</td>\n",
              "    </tr>\n",
              "    <tr>\n",
              "      <th>42</th>\n",
              "      <td>Dedicated spaces for indigenous art forms</td>\n",
              "    </tr>\n",
              "    <tr>\n",
              "      <th>45</th>\n",
              "      <td>Outdoor amphitheater</td>\n",
              "    </tr>\n",
              "    <tr>\n",
              "      <th>49</th>\n",
              "      <td>VR/AR dedicated spaces</td>\n",
              "    </tr>\n",
              "    <tr>\n",
              "      <th>60</th>\n",
              "      <td>Intimate spaces for small audience performances</td>\n",
              "    </tr>\n",
              "    <tr>\n",
              "      <th>63</th>\n",
              "      <td>Historical art restoration labs</td>\n",
              "    </tr>\n",
              "    <tr>\n",
              "      <th>79</th>\n",
              "      <td>Dance Studios with Mirrors</td>\n",
              "    </tr>\n",
              "    <tr>\n",
              "      <th>90</th>\n",
              "      <td>Biological art labs</td>\n",
              "    </tr>\n",
              "    <tr>\n",
              "      <th>94</th>\n",
              "      <td>Interactive digital art spaces</td>\n",
              "    </tr>\n",
              "    <tr>\n",
              "      <th>99</th>\n",
              "      <td>Customizable lighting setups</td>\n",
              "    </tr>\n",
              "    <tr>\n",
              "      <th>106</th>\n",
              "      <td>NaN</td>\n",
              "    </tr>\n",
              "    <tr>\n",
              "      <th>116</th>\n",
              "      <td>NaN</td>\n",
              "    </tr>\n",
              "    <tr>\n",
              "      <th>118</th>\n",
              "      <td>Interactive Digital Art Space</td>\n",
              "    </tr>\n",
              "    <tr>\n",
              "      <th>124</th>\n",
              "      <td>Modular spaces for varying needs</td>\n",
              "    </tr>\n",
              "    <tr>\n",
              "      <th>131</th>\n",
              "      <td>NaN</td>\n",
              "    </tr>\n",
              "    <tr>\n",
              "      <th>139</th>\n",
              "      <td>Culinary Arts Kitchen</td>\n",
              "    </tr>\n",
              "    <tr>\n",
              "      <th>156</th>\n",
              "      <td>Fashion Design Workshop</td>\n",
              "    </tr>\n",
              "    <tr>\n",
              "      <th>157</th>\n",
              "      <td>Set design and prop storage</td>\n",
              "    </tr>\n",
              "    <tr>\n",
              "      <th>168</th>\n",
              "      <td>Performance Stage</td>\n",
              "    </tr>\n",
              "    <tr>\n",
              "      <th>178</th>\n",
              "      <td>VR/AR Studio</td>\n",
              "    </tr>\n",
              "    <tr>\n",
              "      <th>188</th>\n",
              "      <td>Dark room for photography</td>\n",
              "    </tr>\n",
              "    <tr>\n",
              "      <th>201</th>\n",
              "      <td>Metalworking Studio</td>\n",
              "    </tr>\n",
              "    <tr>\n",
              "      <th>202</th>\n",
              "      <td>Soundproof Music Rooms</td>\n",
              "    </tr>\n",
              "    <tr>\n",
              "      <th>210</th>\n",
              "      <td>Sculpture Studio</td>\n",
              "    </tr>\n",
              "    <tr>\n",
              "      <th>212</th>\n",
              "      <td>Spaces with adjustable acoustics</td>\n",
              "    </tr>\n",
              "    <tr>\n",
              "      <th>216</th>\n",
              "      <td>Podcast Recording Studio</td>\n",
              "    </tr>\n",
              "    <tr>\n",
              "      <th>217</th>\n",
              "      <td>Animation Studio</td>\n",
              "    </tr>\n",
              "    <tr>\n",
              "      <th>227</th>\n",
              "      <td>Street Art Space</td>\n",
              "    </tr>\n",
              "    <tr>\n",
              "      <th>247</th>\n",
              "      <td>NaN</td>\n",
              "    </tr>\n",
              "    <tr>\n",
              "      <th>252</th>\n",
              "      <td>Underwater photography facilities</td>\n",
              "    </tr>\n",
              "    <tr>\n",
              "      <th>259</th>\n",
              "      <td>Large open spaces for dance rehearsals</td>\n",
              "    </tr>\n",
              "    <tr>\n",
              "      <th>262</th>\n",
              "      <td>Outdoor Art Installation Spaces</td>\n",
              "    </tr>\n",
              "    <tr>\n",
              "      <th>276</th>\n",
              "      <td>Dedicated pottery and sculpture workshops</td>\n",
              "    </tr>\n",
              "    <tr>\n",
              "      <th>285</th>\n",
              "      <td>Children's interactive art zones</td>\n",
              "    </tr>\n",
              "    <tr>\n",
              "      <th>292</th>\n",
              "      <td>Underground spaces for immersive installations</td>\n",
              "    </tr>\n",
              "    <tr>\n",
              "      <th>297</th>\n",
              "      <td>Spaces with natural light for painters</td>\n",
              "    </tr>\n",
              "    <tr>\n",
              "      <th>301</th>\n",
              "      <td>Art Therapy Rooms</td>\n",
              "    </tr>\n",
              "    <tr>\n",
              "      <th>303</th>\n",
              "      <td>Fashion runway and design studios</td>\n",
              "    </tr>\n",
              "    <tr>\n",
              "      <th>305</th>\n",
              "      <td>Ceramics Studio with Kilns</td>\n",
              "    </tr>\n",
              "    <tr>\n",
              "      <th>308</th>\n",
              "      <td>Black Box Theater</td>\n",
              "    </tr>\n",
              "    <tr>\n",
              "      <th>325</th>\n",
              "      <td>Soundproof studios for audio recording</td>\n",
              "    </tr>\n",
              "    <tr>\n",
              "      <th>346</th>\n",
              "      <td>Dedicated mural and graffiti walls</td>\n",
              "    </tr>\n",
              "  </tbody>\n",
              "</table>\n",
              "</div>"
            ],
            "text/plain": [
              "    If you need a specific space for art creation/presentation not listed, please describe your needs:\n",
              "0                                   Printmaking Studio                                                \n",
              "14                              Multi-media Art Studio                                                \n",
              "15               Mobile studios for on-the-go creation                                                \n",
              "19                             Experimental media labs                                                \n",
              "24               Green screens and film editing suites                                                \n",
              "31                                 Film Editing Suites                                                \n",
              "35                                Photography Darkroom                                                \n",
              "37                                     3D Printing Lab                                                \n",
              "41                                 Glassblowing Studio                                                \n",
              "42           Dedicated spaces for indigenous art forms                                                \n",
              "45                                Outdoor amphitheater                                                \n",
              "49                              VR/AR dedicated spaces                                                \n",
              "60     Intimate spaces for small audience performances                                                \n",
              "63                     Historical art restoration labs                                                \n",
              "79                          Dance Studios with Mirrors                                                \n",
              "90                                 Biological art labs                                                \n",
              "94                      Interactive digital art spaces                                                \n",
              "99                        Customizable lighting setups                                                \n",
              "106                                                NaN                                                \n",
              "116                                                NaN                                                \n",
              "118                      Interactive Digital Art Space                                                \n",
              "124                   Modular spaces for varying needs                                                \n",
              "131                                                NaN                                                \n",
              "139                              Culinary Arts Kitchen                                                \n",
              "156                            Fashion Design Workshop                                                \n",
              "157                        Set design and prop storage                                                \n",
              "168                                  Performance Stage                                                \n",
              "178                                       VR/AR Studio                                                \n",
              "188                          Dark room for photography                                                \n",
              "201                                Metalworking Studio                                                \n",
              "202                             Soundproof Music Rooms                                                \n",
              "210                                   Sculpture Studio                                                \n",
              "212                   Spaces with adjustable acoustics                                                \n",
              "216                           Podcast Recording Studio                                                \n",
              "217                                   Animation Studio                                                \n",
              "227                                   Street Art Space                                                \n",
              "247                                                NaN                                                \n",
              "252                  Underwater photography facilities                                                \n",
              "259             Large open spaces for dance rehearsals                                                \n",
              "262                    Outdoor Art Installation Spaces                                                \n",
              "276          Dedicated pottery and sculpture workshops                                                \n",
              "285                   Children's interactive art zones                                                \n",
              "292     Underground spaces for immersive installations                                                \n",
              "297             Spaces with natural light for painters                                                \n",
              "301                                  Art Therapy Rooms                                                \n",
              "303                  Fashion runway and design studios                                                \n",
              "305                         Ceramics Studio with Kilns                                                \n",
              "308                                  Black Box Theater                                                \n",
              "325             Soundproof studios for audio recording                                                \n",
              "346                 Dedicated mural and graffiti walls                                                "
            ]
          },
          "execution_count": 30,
          "metadata": {},
          "output_type": "execute_result"
        }
      ],
      "source": [
        "(data[data['Describe Your Primary Role in Creative Sector']=='Creative Worker (In-house graphic designers, copywriters, art directors employed at a business working in the creative industries)'][['If you need a specific space for art creation/presentation not listed, please describe your needs:']])"
      ]
    },
    {
      "cell_type": "code",
      "execution_count": 31,
      "metadata": {},
      "outputs": [
        {
          "name": "stderr",
          "output_type": "stream",
          "text": [
            "/tmp/ipykernel_2664/3188605167.py:13: SettingWithCopyWarning: \n",
            "A value is trying to be set on a copy of a slice from a DataFrame.\n",
            "Try using .loc[row_indexer,col_indexer] = value instead\n",
            "\n",
            "See the caveats in the documentation: https://pandas.pydata.org/pandas-docs/stable/user_guide/indexing.html#returning-a-view-versus-a-copy\n",
            "  cw_df[col] = cw_df[col].replace(value_mapping)\n"
          ]
        },
        {
          "data": {
            "image/png": "[encoded data removed]",
            "text/plain": [
              "<Figure size 640x480 with 1 Axes>"
            ]
          },
          "metadata": {},
          "output_type": "display_data"
        }
      ],
      "source": [
        "cw_df =data[data['Describe Your Primary Role in Creative Sector'] == 'Creative Worker (In-house graphic designers, copywriters, art directors employed at a business working in the creative industries)']\n",
        "colaborating_col = \"How important are the following space types/amenities to your creative practice or business? Collaboration/networking events\"\n",
        "spaces = 'How important are the following space types/amenities to your creative practice or business? Photography studio/dark room'\n",
        "space_or_amenity_columns = [col for col in cw_df.columns if 'how important' in col.lower()]\n",
        "value_mapping = {\n",
        "        \"Not at all important\": 1,\n",
        "        \"Nice to have but not important\": 2,\n",
        "        \"Somewhat important\": 3,\n",
        "        \"Critically important\": 4\n",
        "    }\n",
        "\n",
        "for col in space_or_amenity_columns:\n",
        "        cw_df[col] = cw_df[col].replace(value_mapping)\n",
        "\n",
        "cw_df = cw_df.dropna(subset=space_or_amenity_columns)\n",
        "\n",
        "melted_df = cw_df.melt(id_vars=[colaborating_col], value_vars=space_or_amenity_columns, var_name='Amenity', value_name='Rating')\n",
        "\n",
        "  # Calculate the mean rating of each amenity\n",
        "mean_ratings = melted_df.groupby('Amenity')['Rating'].mean().sort_values(ascending=False)\n",
        "\n",
        "top3 = mean_ratings.head(3)\n",
        "\n",
        "# Plot the top 3 amenities based on their mean rating using ax.barh()\n",
        "fig, ax = plt.subplots()\n",
        "ax.barh(top3.index, top3.values, color='blue')\n",
        "\n",
        "# Set the title and axis labels\n",
        "ax.set_title('Top 3 Amenities for Creative Workers')\n",
        "ax.set_xlabel('Mean Rating')\n",
        "ax.set_ylabel('Amenity')\n",
        "\n",
        "plt.show()\n",
        "\n",
        "\n",
        "\n"
      ]
    },
    {
      "cell_type": "code",
      "execution_count": 32,
      "metadata": {},
      "outputs": [
        {
          "name": "stderr",
          "output_type": "stream",
          "text": [
            "/tmp/ipykernel_2664/2109923104.py:13: SettingWithCopyWarning: \n",
            "A value is trying to be set on a copy of a slice from a DataFrame.\n",
            "Try using .loc[row_indexer,col_indexer] = value instead\n",
            "\n",
            "See the caveats in the documentation: https://pandas.pydata.org/pandas-docs/stable/user_guide/indexing.html#returning-a-view-versus-a-copy\n",
            "  aa_df[col] = aa_df[col].replace(value_mapping)\n"
          ]
        }
      ],
      "source": [
        "aa_df = data[data['Describe Your Primary Role in Creative Sector'] == 'Arts Administrator (Theater managers, development staff, executive directors, program coordinators at an arts-based business usually a non-profit, e.g., at a museum, symphony, theater, etc.)']\n",
        "colaborating_col = \"How important are the following space types/amenities to your creative practice or business? Collaboration/networking events\"\n",
        "spaces = 'How important are the following space types/amenities to your creative practice or business? Photography studio/dark room'\n",
        "space_or_amenity_columns = [col for col in aa_df.columns if 'how important' in col.lower()]\n",
        "value_mapping = {\n",
        "        \"Not at all important\": 1,\n",
        "        \"Nice to have but not important\": 2,\n",
        "        \"Somewhat important\": 3,\n",
        "        \"Critically important\": 4\n",
        "    }\n",
        "\n",
        "for col in space_or_amenity_columns:\n",
        "        aa_df[col] = aa_df[col].replace(value_mapping)\n",
        "\n",
        "aa_df = aa_df.dropna(subset=space_or_amenity_columns)\n",
        "\n",
        "melted_df = aa_df.melt(id_vars=[colaborating_col], value_vars=space_or_amenity_columns, var_name='Amenity', value_name='Rating')\n",
        "\n"
      ]
    },
    {
      "cell_type": "code",
      "execution_count": 33,
      "metadata": {},
      "outputs": [
        {
          "data": {
            "text/plain": [
              "array(['Member Discounts', 'Mail and Package Handling Services', nan,\n",
              "       'Reception Services', 'Flexible Membership Plans',\n",
              "       'Collaboration and networking opportunities',\n",
              "       'Mentorship Programs', 'Member-driven workshops and seminars',\n",
              "       'Air Conditioning and Heating', 'Kitchen and coffee facilities',\n",
              "       'Fitness Center/Wellness Programs', 'Outdoor Space',\n",
              "       'Private Meeting Rooms', 'Secure storage lockers', 'Phone Booths',\n",
              "       'Conference Rooms', 'Access to printing and scanning facilities',\n",
              "       'Clean Restrooms', 'Dedicated Desks', 'Ergonomic Furniture',\n",
              "       'Ample Lighting', 'Event Spaces', 'Pet-friendly policies',\n",
              "       'High-Speed Internet', 'Projector and Screen',\n",
              "       'Lounge and relaxation areas', '24/7 Access',\n",
              "       'Mail and package handling',\n",
              "       'Event and workshop hosting opportunities', 'Kitchen Facilities',\n",
              "       'On-Site Cafe', 'Ergonomic furniture', 'Comfortable Seating',\n",
              "       'On-site support and maintenance services', 'On-site tech support',\n",
              "       'Affordable and competitive pricing', 'Mail and Package Handling',\n",
              "       'Gallery Space for Exhibiting', 'Collaborative Environment',\n",
              "       'Diverse and Comfortable Workspaces', 'Friendly Community',\n",
              "       'Storage Space', 'Printing Services',\n",
              "       'Diverse and inclusive environment', 'Fitness Center',\n",
              "       'Affordable Rent', 'On-Site Technical Support',\n",
              "       'Bike storage and shower facilities', 'Wheelchair Accessibility',\n",
              "       'Accessible Location', 'Printer and scanner access',\n",
              "       'Security Cameras', 'Networking Opportunities',\n",
              "       'Collaboration Spaces', 'Recreational Facilities',\n",
              "       'Printing and Copying Services', 'Member discounts and perks',\n",
              "       'Digital Equipment', 'Pet-Friendly',\n",
              "       'Mail and package handling services',\n",
              "       'Access to Legal and Business Advisors', 'Childcare Services',\n",
              "       'Reception and Front Desk Services',\n",
              "       'High-speed internet and digital resources',\n",
              "       'Workshops and Classes', 'Networking and Social Events',\n",
              "       'Sound System', 'Pet-friendly', 'Quiet zones for focused work',\n",
              "       'Makerspace with Tools', 'Kitchen and Break Areas',\n",
              "       'Dedicated Desk Space', 'Shower Facilities', 'Bike Storage',\n",
              "       'High-speed internet', 'Free Coffee and Tea', 'Free Parking',\n",
              "       'Art Supplies', 'Storage Lockers', 'Security Features',\n",
              "       'Environmentally sustainable practices', 'Flexible Lease Terms',\n",
              "       'Quiet Zones', 'Accessibility features', 'Outdoor Areas',\n",
              "       'Showcase Events', 'Outdoor Workspaces',\n",
              "       'Outdoor and recreational spaces',\n",
              "       'Professional and friendly management', 'Networking Events',\n",
              "       'Event Space', 'Soundproof Rooms',\n",
              "       'Access to mentorship and professional development',\n",
              "       'Security and privacy measures', 'Counseling and Mentorship',\n",
              "       'Regular networking events',\n",
              "       'Conference and meeting rooms availability',\n",
              "       'Private meeting rooms', 'Private Phone Booths', 'Lounge Area',\n",
              "       'Flexible desk arrangements',\n",
              "       'Flexible and diverse working spaces',\n",
              "       'Workshop and fabrication tools', 'Green and Sustainable Features',\n",
              "       'Green and sustainable practices',\n",
              "       'Conference Rooms with AV Equipment',\n",
              "       'Availability of equipment and technology', 'Outdoor workspaces',\n",
              "       'Security', 'Access to mentors and advisors',\n",
              "       'Cafeteria/Coffee Shop', '24/7 access and flexibility',\n",
              "       'High-speed Internet',\n",
              "       'Proximity to public transportation and parking',\n",
              "       'Comfortable and ergonomic furniture', '24/7 access',\n",
              "       'Kitchen and break room amenities',\n",
              "       'Inclusive and accessible design',\n",
              "       'Friendly and inspiring community'], dtype=object)"
            ]
          },
          "execution_count": 33,
          "metadata": {},
          "output_type": "execute_result"
        }
      ],
      "source": [
        "data['What additional features are important to you for an arts-business co-working space?'].unique()"
      ]
    },
    {
      "cell_type": "code",
      "execution_count": 34,
      "metadata": {},
      "outputs": [
        {
          "name": "stdout",
          "output_type": "stream",
          "text": [
            "['Special Services' 'Facilities and Infrastructure' nan\n",
            " 'Work Environment and Productivity' 'Networking and Community'\n",
            " 'Comfort and Inclusivity']\n"
          ]
        }
      ],
      "source": [
        "# Define a dictionary to map each unique value to its category\n",
        "category_dict = {\n",
        "    'Member Discounts': 'Special Services',\n",
        "    'Mail and Package Handling Services': 'Facilities and Infrastructure',\n",
        "    'Reception Services': 'Facilities and Infrastructure',\n",
        "    'Flexible Membership Plans': 'Facilities and Infrastructure',\n",
        "    'Collaboration and networking opportunities': 'Work Environment and Productivity',\n",
        "    'Mentorship Programs': 'Networking and Community',\n",
        "    'Member-driven workshops and seminars': 'Networking and Community',\n",
        "    'Air Conditioning and Heating': 'Facilities and Infrastructure',\n",
        "    'Kitchen and coffee facilities': 'Facilities and Infrastructure',\n",
        "    'Fitness Center/Wellness Programs': 'Special Services',\n",
        "    'Outdoor Space': 'Facilities and Infrastructure',\n",
        "    'Private Meeting Rooms': 'Facilities and Infrastructure',\n",
        "    'Secure storage lockers': 'Facilities and Infrastructure',\n",
        "    'Phone Booths': 'Facilities and Infrastructure',\n",
        "    'Conference Rooms': 'Facilities and Infrastructure',\n",
        "    'Access to printing and scanning facilities': 'Facilities and Infrastructure',\n",
        "    'Clean Restrooms': 'Facilities and Infrastructure',\n",
        "    'Dedicated Desks': 'Facilities and Infrastructure',\n",
        "    'Ergonomic Furniture': 'Facilities and Infrastructure',\n",
        "    'Ample Lighting': 'Facilities and Infrastructure',\n",
        "    'Event Spaces': 'Facilities and Infrastructure',\n",
        "    'Pet-friendly policies': 'Facilities and Infrastructure',\n",
        "    'High-Speed Internet': 'Facilities and Infrastructure',\n",
        "    'Projector and Screen': 'Facilities and Infrastructure',\n",
        "    'Lounge and relaxation areas': 'Facilities and Infrastructure',\n",
        "    '24/7 Access': 'Facilities and Infrastructure',\n",
        "    'Mail and package handling': 'Facilities and Infrastructure',\n",
        "    'Event and workshop hosting opportunities': 'Facilities and Infrastructure',\n",
        "    'Kitchen Facilities': 'Facilities and Infrastructure',\n",
        "    'On-Site Cafe': 'Facilities and Infrastructure',\n",
        "    'Ergonomic furniture': 'Facilities and Infrastructure',\n",
        "    'Comfortable Seating': 'Facilities and Infrastructure',\n",
        "    'On-site support and maintenance services': 'Facilities and Infrastructure',\n",
        "    'On-site tech support': 'Facilities and Infrastructure',\n",
        "    'Affordable and competitive pricing': 'Facilities and Infrastructure',\n",
        "    'Mail and Package Handling': 'Facilities and Infrastructure',\n",
        "    'Gallery Space for Exhibiting': 'Facilities and Infrastructure',\n",
        "    'Collaborative Environment': 'Work Environment and Productivity',\n",
        "    'Diverse and Comfortable Workspaces': 'Work Environment and Productivity',\n",
        "    'Friendly Community': 'Networking and Community',\n",
        "    'Storage Space': 'Facilities and Infrastructure',\n",
        "    'Printing Services': 'Facilities and Infrastructure',\n",
        "    'Diverse and inclusive environment': 'Comfort and Inclusivity',\n",
        "    'Fitness Center': 'Special Services',\n",
        "    'Affordable Rent': 'Facilities and Infrastructure',\n",
        "    'On-Site Technical Support': 'Facilities and Infrastructure',\n",
        "    'Bike storage and shower facilities': 'Facilities and Infrastructure',\n",
        "    'Wheelchair Accessibility': 'Facilities and Infrastructure',\n",
        "    'Accessible Location': 'Facilities and Infrastructure',\n",
        "    'Printer and scanner access': 'Facilities and Infrastructure',\n",
        "    'Security Cameras': 'Facilities and Infrastructure',\n",
        "    'Networking Opportunities': 'Networking and Community',\n",
        "    'Collaboration Spaces': 'Work Environment and Productivity',\n",
        "    'Recreational Facilities': 'Facilities and Infrastructure',\n",
        "    'Printing and Copying Services': 'Facilities and Infrastructure',\n",
        "    'Member discounts and perks': 'Special Services',\n",
        "    'Digital Equipment': 'Facilities and Infrastructure',\n",
        "    'Pet-Friendly': 'Comfort and Inclusivity',\n",
        "    'Mail and package handling services': 'Facilities and Infrastructure',\n",
        "    'Access to Legal and Business Advisors': 'Special Services',\n",
        "    'Childcare Services': 'Special Services',\n",
        "    'Reception and Front Desk Services': 'Facilities and Infrastructure',\n",
        "    'High-speed internet and digital resources': 'Facilities and Infrastructure',\n",
        "    'Workshops and Classes': 'Networking and Community',\n",
        "    'Networking and Social Events': 'Networking and Community',\n",
        "    'Sound System': 'Facilities and Infrastructure',\n",
        "    'Quiet zones for focused work': 'Work Environment and Productivity',\n",
        "    'Makerspace with Tools': 'Facilities and Infrastructure',\n",
        "    'Kitchen and Break Areas': 'Facilities and Infrastructure',\n",
        "    'Dedicated Desk Space': 'Facilities and Infrastructure',\n",
        "    'Shower Facilities': 'Facilities and Infrastructure',\n",
        "    'Bike Storage': 'Facilities and Infrastructure',\n",
        "    'Free Coffee and Tea': 'Facilities and Infrastructure',\n",
        "    'Free Parking': 'Facilities and Infrastructure',\n",
        "    'Art Supplies': 'Facilities and Infrastructure',\n",
        "    'Storage Lockers': 'Facilities and Infrastructure',\n",
        "    'Security Features': 'Facilities and Infrastructure',\n",
        "    'Environmentally sustainable practices': 'Comfort and Inclusivity',\n",
        "    'Flexible Lease Terms': 'Facilities and Infrastructure',\n",
        "    'Quiet Zones': 'Work Environment and Productivity',\n",
        "    'Accessibility features': 'Facilities and Infrastructure',\n",
        "    'Outdoor Areas': 'Facilities and Infrastructure',\n",
        "    'Showcase Events': 'Facilities and Infrastructure',\n",
        "    'Outdoor Workspaces': 'Facilities and Infrastructure',\n",
        "    'Outdoor and recreational spaces': 'Facilities and Infrastructure',\n",
        "    'Professional and friendly management': 'Comfort and Inclusivity',\n",
        "    'Networking Events': 'Networking and Community',\n",
        "    'Event Space': 'Facilities and Infrastructure',\n",
        "    'Soundproof Rooms': 'Facilities and Infrastructure',\n",
        "    'Access to mentorship and professional development': 'Networking and Community',\n",
        "    'Security and privacy measures': 'Facilities and Infrastructure',\n",
        "    'Counseling and Mentorship': 'Special Services',\n",
        "    'Regular networking events': 'Networking and Community',\n",
        "    'Conference and meeting rooms availability': 'Facilities and Infrastructure',\n",
        "    'Private Phone Booths': 'Facilities and Infrastructure',\n",
        "    'Lounge Area': 'Facilities and Infrastructure',\n",
        "    'Flexible desk arrangements': 'Work Environment and Productivity',\n",
        "    'Flexible and diverse working spaces': 'Work Environment and Productivity',\n",
        "    'Workshop and fabrication tools': 'Facilities and Infrastructure',\n",
        "    'Green and Sustainable Features': 'Comfort and Inclusivity',\n",
        "    'Green and sustainable practices': 'Comfort and Inclusivity',\n",
        "    'Conference Rooms with AV Equipment': 'Facilities and Infrastructure',\n",
        "    'Availability of equipment and technology': 'Facilities and Infrastructure',\n",
        "    'Security': 'Facilities and Infrastructure',\n",
        "    'Access to mentors and advisors': 'Networking and Community',\n",
        "    'Cafeteria/Coffee Shop': 'Facilities and Infrastructure',\n",
        "    '24/7 access and flexibility': 'Facilities and Infrastructure',\n",
        "    'Proximity to public transportation and parking': 'Facilities and Infrastructure',\n",
        "    'Comfortable and ergonomic furniture': 'Facilities and Infrastructure',\n",
        "    '24/7 access': 'Facilities and Infrastructure',\n",
        "    'Kitchen and break room amenities': 'Facilities and Infrastructure',\n",
        "    'Inclusive and accessible design': 'Comfort and Inclusivity',\n",
        "    'Friendly and inspiring community': 'Networking and Community'\n",
        "}\n",
        "\n",
        "# Replace the original values with the categorized values\n",
        "data['What additional features are important to you for an arts-business co-working space?'] = data['What additional features are important to you for an arts-business co-working space?'].map(category_dict)\n",
        "\n",
        "# Print the unique values in the column to verify the categorization\n",
        "print(data['What additional features are important to you for an arts-business co-working space?'].unique())"
      ]
    },
    {
      "cell_type": "code",
      "execution_count": 35,
      "metadata": {},
      "outputs": [
        {
          "data": {
            "text/plain": [
              "['Facilities and Infrastructure',\n",
              " 'Work Environment and Productivity',\n",
              " 'Comfort and Inclusivity',\n",
              " 'Special Services',\n",
              " 'Networking and Community']"
            ]
          },
          "execution_count": 35,
          "metadata": {},
          "output_type": "execute_result"
        }
      ],
      "source": [
        "cw_df = data[data['Describe Your Primary Role in Creative Sector']== 'Creative Worker (In-house graphic designers, copywriters, art directors employed at a business working in the creative industries)']\n",
        "additional_space = 'What additional features are important to you for an arts-business co-working space?'\n",
        "values = cw_df['What additional features are important to you for an arts-business co-working space?'].dropna().value_counts()\n",
        "values.index.to_list()\n",
        "\n",
        "aa_df = data[data['Describe Your Primary Role in Creative Sector']=='Arts Administrator (Theater managers, development staff, executive directors, program coordinators at an arts-based business usually a non-profit, e.g., at a museum, symphony, theater, etc.)']\n",
        "additional_space = 'What additional features are important to you for an arts-business co-working space?'\n",
        "values = aa_df['What additional features are important to you for an arts-business co-working space?'].dropna().value_counts()\n",
        "values.index.to_list()"
      ]
    },
    {
      "cell_type": "code",
      "execution_count": 36,
      "metadata": {},
      "outputs": [
        {
          "name": "stderr",
          "output_type": "stream",
          "text": [
            "/tmp/ipykernel_2664/413605278.py:56: SettingWithCopyWarning: \n",
            "A value is trying to be set on a copy of a slice from a DataFrame.\n",
            "Try using .loc[row_indexer,col_indexer] = value instead\n",
            "\n",
            "See the caveats in the documentation: https://pandas.pydata.org/pandas-docs/stable/user_guide/indexing.html#returning-a-view-versus-a-copy\n",
            "  cw_df[additional_space] = cw_df[additional_space].replace(categoried_dictionary)\n"
          ]
        },
        {
          "data": {
            "text/plain": [
              "0                       Special Services\n",
              "14              Networking and Community\n",
              "15              Networking and Community\n",
              "19         Facilities and Infrastructure\n",
              "24         Facilities and Infrastructure\n",
              "31         Facilities and Infrastructure\n",
              "35         Facilities and Infrastructure\n",
              "37         Facilities and Infrastructure\n",
              "41         Facilities and Infrastructure\n",
              "42         Facilities and Infrastructure\n",
              "45         Facilities and Infrastructure\n",
              "49         Facilities and Infrastructure\n",
              "60         Facilities and Infrastructure\n",
              "63         Facilities and Infrastructure\n",
              "79         Facilities and Infrastructure\n",
              "90               Comfort and Inclusivity\n",
              "94         Facilities and Infrastructure\n",
              "99         Facilities and Infrastructure\n",
              "106        Facilities and Infrastructure\n",
              "116    Work Environment and Productivity\n",
              "118        Facilities and Infrastructure\n",
              "124                     Special Services\n",
              "131                                  NaN\n",
              "139                     Special Services\n",
              "156                                  NaN\n",
              "157    Work Environment and Productivity\n",
              "168                                  NaN\n",
              "178                     Special Services\n",
              "188                                  NaN\n",
              "201        Facilities and Infrastructure\n",
              "202                                  NaN\n",
              "210    Work Environment and Productivity\n",
              "212        Facilities and Infrastructure\n",
              "216        Facilities and Infrastructure\n",
              "217        Facilities and Infrastructure\n",
              "227             Networking and Community\n",
              "247        Facilities and Infrastructure\n",
              "252             Networking and Community\n",
              "259                                  NaN\n",
              "262        Facilities and Infrastructure\n",
              "276    Work Environment and Productivity\n",
              "285        Facilities and Infrastructure\n",
              "292              Comfort and Inclusivity\n",
              "297                                  NaN\n",
              "301        Facilities and Infrastructure\n",
              "303             Networking and Community\n",
              "305        Facilities and Infrastructure\n",
              "308                                  NaN\n",
              "325        Facilities and Infrastructure\n",
              "346             Networking and Community\n",
              "Name: What additional features are important to you for an arts-business co-working space?, dtype: object"
            ]
          },
          "metadata": {},
          "output_type": "display_data"
        },
        {
          "name": "stderr",
          "output_type": "stream",
          "text": [
            "/tmp/ipykernel_2664/413605278.py:66: UserWarning: set_ticklabels() should only be used with a fixed number of ticks, i.e. after set_ticks() or using a FixedLocator.\n",
            "  ax.set_yticklabels(list(value_counts.index)[::-1], fontsize=8)\n"
          ]
        },
        {
          "data": {
            "image/png": "[encoded data removed]",
            "text/plain": [
              "<Figure size 640x480 with 1 Axes>"
            ]
          },
          "metadata": {},
          "output_type": "display_data"
        }
      ],
      "source": [
        "categoried_dictionary = {\n",
        "    'Member Discounts': 'Member Services',\n",
        "    'Showcase Events': 'Networking and Community',\n",
        "    'Networking Events': 'Networking and Community',\n",
        "    'Regular networking events': 'Networking and Community',\n",
        "    'Access to mentors and advisors': 'Networking and Community',\n",
        "    'Mentorship Programs': 'Networking and Community',\n",
        "    'Member-driven workshops and seminars': 'Networking and Community',\n",
        "    'Friendly and inspiring community': 'Networking and Community',\n",
        "    'Private meeting rooms': 'Facilities and Infrastructure',\n",
        "    'High-speed internet': 'Facilities and Infrastructure',\n",
        "    'High-speed Internet': 'Facilities and Infrastructure',\n",
        "    'Storage Lockers': 'Facilities and Infrastructure',\n",
        "    'Secure storage lockers': 'Facilities and Infrastructure',\n",
        "    'Outdoor Areas': 'Facilities and Infrastructure',\n",
        "    'Outdoor workspaces': 'Facilities and Infrastructure',\n",
        "    'Security': 'Facilities and Infrastructure',\n",
        "    'Cafeteria/Coffee Shop': 'Facilities and Infrastructure',\n",
        "    'Kitchen and coffee facilities': 'Facilities and Infrastructure',\n",
        "    'Fitness Center': 'Special Services',\n",
        "    'Conference Rooms': 'Facilities and Infrastructure',\n",
        "    'Dedicated Desks': 'Facilities and Infrastructure',\n",
        "    'Ergonomic Furniture': 'Facilities and Infrastructure',\n",
        "    'Ergonomic furniture': 'Facilities and Infrastructure',\n",
        "    'Event Spaces': 'Facilities and Infrastructure',\n",
        "    'Lounge and relaxation areas': 'Facilities and Infrastructure',\n",
        "    'Childcare Services': 'Special Services',\n",
        "    'Bike storage and shower facilities': 'Special Services',\n",
        "    'Printer and scanner access': 'Facilities and Infrastructure',\n",
        "    'Collaboration Spaces': 'Facilities and Infrastructure',\n",
        "    'Recreational Facilities': 'Facilities and Infrastructure',\n",
        "    'Quiet Zones': 'Work Environment and Productivity',\n",
        "    'Quiet zones for focused work': 'Work Environment and Productivity',\n",
        "    'Private Phone Booths': 'Work Environment and Productivity',\n",
        "    'Flexible desk arrangements': 'Work Environment and Productivity',\n",
        "    'Workshop and fabrication tools': 'Work Environment and Productivity',\n",
        "    'Green and sustainable practices': 'Work Environment and Productivity',\n",
        "    '24/7 access': 'Work Environment and Productivity',\n",
        "    '24/7 Access': 'Work Environment and Productivity',\n",
        "    'On-site tech support': 'Work Environment and Productivity',\n",
        "    'Printing Services': 'Work Environment and Productivity',\n",
        "    'Mail and Package Handling': 'Member Services',\n",
        "    'Mail and package handling': 'Member Services',\n",
        "    'Member discounts and perks': 'Member Services',\n",
        "    'Accessibility features': 'Comfort and Inclusivity',\n",
        "    'Pet-friendly': 'Comfort and Inclusivity',\n",
        "    'Pet-friendly policies': 'Comfort and Inclusivity',\n",
        "    'Diverse and inclusive environment': 'Comfort and Inclusivity'\n",
        "}\n",
        "\n",
        "\n",
        "cw_df = data[data['Describe Your Primary Role in Creative Sector'] == 'Creative Worker (In-house graphic designers, copywriters, art directors employed at a business working in the creative industries)']\n",
        "additional_space = 'What additional features are important to you for an arts-business co-working space?'\n",
        "\n",
        "# Replace the information in the data with the categorized_dictionary\n",
        "cw_df[additional_space] = cw_df[additional_space].replace(categoried_dictionary)\n",
        "display(cw_df[additional_space])\n",
        "values = cw_df[additional_space].dropna().value_counts()\n",
        "values_dict = values.to_dict()\n",
        "colors = plt.cm.tab20c(np.linspace(0, 1, len(values_dict)))\n",
        "value_counts = cw_df[additional_space].value_counts()\n",
        "\n",
        "fig, ax = plt.subplots()\n",
        "ax.barh(cw_df[additional_space].value_counts().index, cw_df[additional_space].value_counts().values, color=colors)\n",
        "\n",
        "ax.set_yticklabels(list(value_counts.index)[::-1], fontsize=8)\n",
        "ax.set_xticks(range(0, max(value_counts.values)+1, 2))\n",
        "ax.set_xlabel('Frequency')\n",
        "ax.set_ylabel('Additional Features')\n",
        "ax.set_title('Distribution of Importance of Additional Features for Future Space of Creative Workers')\n",
        "\n",
        "plt.show()\n",
        "\n",
        "\n",
        "\n"
      ]
    },
    {
      "cell_type": "code",
      "execution_count": 37,
      "metadata": {},
      "outputs": [
        {
          "data": {
            "text/plain": [
              "['Facilities and Infrastructure',\n",
              " 'Work Environment and Productivity',\n",
              " 'Comfort and Inclusivity',\n",
              " 'Special Services',\n",
              " 'Networking and Community']"
            ]
          },
          "execution_count": 37,
          "metadata": {},
          "output_type": "execute_result"
        }
      ],
      "source": [
        "aa_df = data[data['Describe Your Primary Role in Creative Sector']=='Arts Administrator (Theater managers, development staff, executive directors, program coordinators at an arts-based business usually a non-profit, e.g., at a museum, symphony, theater, etc.)']\n",
        "additional_space = 'What additional features are important to you for an arts-business co-working space?'\n",
        "values = aa_df['What additional features are important to you for an arts-business co-working space?'].dropna().value_counts()\n",
        "values.index.to_list()"
      ]
    },
    {
      "cell_type": "code",
      "execution_count": 38,
      "metadata": {},
      "outputs": [
        {
          "name": "stdout",
          "output_type": "stream",
          "text": [
            "What additional features are important to you for an arts-business co-working space?\n",
            "Facilities and Infrastructure        31\n",
            "Work Environment and Productivity     4\n",
            "Comfort and Inclusivity               3\n",
            "Special Services                      2\n",
            "Networking and Community              2\n",
            "Name: count, dtype: int64\n"
          ]
        },
        {
          "name": "stderr",
          "output_type": "stream",
          "text": [
            "/tmp/ipykernel_2664/4205934673.py:43: SettingWithCopyWarning: \n",
            "A value is trying to be set on a copy of a slice from a DataFrame.\n",
            "Try using .loc[row_indexer,col_indexer] = value instead\n",
            "\n",
            "See the caveats in the documentation: https://pandas.pydata.org/pandas-docs/stable/user_guide/indexing.html#returning-a-view-versus-a-copy\n",
            "  aa_df[additional_space] = aa_df[additional_space].replace(categoried_dictionary_1)\n",
            "/tmp/ipykernel_2664/4205934673.py:53: UserWarning: set_ticklabels() should only be used with a fixed number of ticks, i.e. after set_ticks() or using a FixedLocator.\n",
            "  ax.set_yticklabels(list(value_counts.index), fontsize=8)\n"
          ]
        },
        {
          "data": {
            "image/png": "[encoded data removed]",
            "text/plain": [
              "<Figure size 640x480 with 1 Axes>"
            ]
          },
          "metadata": {},
          "output_type": "display_data"
        }
      ],
      "source": [
        "categoried_dictionary_1 = {\n",
        "    'Diverse and Comfortable Workspaces': 'Facilities and Infrastructure',\n",
        "    'Kitchen and Break Areas': 'Facilities and Infrastructure',\n",
        "    'Conference Rooms with AV Equipment': 'Facilities and Infrastructure',\n",
        "    'Comfortable and ergonomic furniture': 'Facilities and Infrastructure',\n",
        "    'Flexible and diverse working spaces': 'Facilities and Infrastructure',\n",
        "    'Conference and meeting rooms availability': 'Facilities and Infrastructure',\n",
        "    'Outdoor and recreational spaces': 'Facilities and Infrastructure',\n",
        "    'Outdoor Workspaces': 'Facilities and Infrastructure',\n",
        "    'Fitness Center/Wellness Programs': 'Facilities and Infrastructure',\n",
        "    'High-Speed Internet': 'Connectivity and Technology',\n",
        "    'High-speed internet and digital resources': 'Connectivity and Technology',\n",
        "    'Availability of equipment and technology': 'Connectivity and Technology',\n",
        "    'On-Site Technical Support': 'Connectivity and Technology',\n",
        "    'Mail and Package Handling Services': 'Services and Support',\n",
        "    'Printing and Copying Services': 'Services and Support',\n",
        "    'Reception and Front Desk Services': 'Services and Support',\n",
        "    'On-site support and maintenance services': 'Services and Support',\n",
        "    'Access to printing and scanning facilities': 'Services and Support',\n",
        "    'Mail and package handling services': 'Services and Support',\n",
        "    '24/7 access and flexibility': 'Accessibility and Convenience',\n",
        "    'Proximity to public transportation and parking': 'Accessibility and Convenience',\n",
        "    '24/7 Access': 'Accessibility and Convenience',\n",
        "    'Flexible Lease Terms': 'Accessibility and Convenience',\n",
        "    'Inclusive and accessible design': 'Accessibility and Convenience',\n",
        "    'Security and privacy measures': 'Security and Privacy',\n",
        "    'Security Features': 'Security and Privacy',\n",
        "    'Access to mentorship and professional development': 'Networking and Professional Development',\n",
        "    'Collaboration and networking opportunities': 'Networking and Professional Development',\n",
        "    'Networking and Social Events': 'Networking and Professional Development',\n",
        "    'Access to Legal and Business Advisors': 'Networking and Professional Development',\n",
        "    'Event and workshop hosting opportunities': 'Networking and Professional Development',\n",
        "    'Professional and friendly management': 'Management and Operations',\n",
        "    'Affordable and competitive pricing': 'Management and Operations',\n",
        "    'Environmentally sustainable practices': 'Environment and Sustainability',\n",
        "    'Private Phone Booths': 'Amenities and Comforts',\n",
        "    'Kitchen and break room amenities': 'Amenities and Comforts'\n",
        "}\n",
        "\n",
        "aa_df = data[data['Describe Your Primary Role in Creative Sector']=='Arts Administrator (Theater managers, development staff, executive directors, program coordinators at an arts-based business usually a non-profit, e.g., at a museum, symphony, theater, etc.)']\n",
        "\n",
        "\n",
        "aa_df[additional_space] = aa_df[additional_space].replace(categoried_dictionary_1)\n",
        "values = aa_df[additional_space].dropna().value_counts()\n",
        "values_dict = values.to_dict()\n",
        "aspects = list(values_dict.keys())\n",
        "colors = plt.cm.tab20c(np.linspace(0, 1, len(aspects)))\n",
        "value_counts = aa_df[additional_space].value_counts()\n",
        "print(value_counts)\n",
        "fig, ax = plt.subplots()\n",
        "ax.barh(aa_df[additional_space].value_counts().index, aa_df[additional_space].value_counts().values, color=colors)\n",
        "\n",
        "ax.set_yticklabels(list(value_counts.index), fontsize=8)\n",
        "ax.set_xlabel('Frequency')\n",
        "ax.set_ylabel('Additional Features')\n",
        "ax.set_title('Distribution of Importance of Additional Features for Future Space of Arts Administrators')\n",
        "\n",
        "for tick in ax.yaxis.get_ticklabels():\n",
        "    tick.set_ha('right')\n",
        "\n",
        "plt.show()"
      ]
    },
    {
      "cell_type": "code",
      "execution_count": null,
      "metadata": {},
      "outputs": [],
      "source": []
    }
  ],
  "metadata": {
    "colab": {
      "provenance": []
    },
    "kernelspec": {
      "display_name": "Python 3",
      "name": "python3"
    },
    "language_info": {
      "codemirror_mode": {
        "name": "ipython",
        "version": 3
      },
      "file_extension": ".py",
      "mimetype": "text/x-python",
      "name": "python",
      "nbconvert_exporter": "python",
      "pygments_lexer": "ipython3",
      "version": "3.11.6"
    }
  },
  "nbformat": 4,
  "nbformat_minor": 0
}
